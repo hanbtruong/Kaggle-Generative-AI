{
 "cells": [
  {
   "cell_type": "markdown",
   "id": "4d7ed2ac",
   "metadata": {
    "id": "jkxRSYjzA1oX",
    "papermill": {
     "duration": 0.012623,
     "end_time": "2024-12-28T23:19:25.479111",
     "exception": false,
     "start_time": "2024-12-28T23:19:25.466488",
     "status": "completed"
    },
    "tags": []
   },
   "source": [
    "##### Copyright 2024 Google LLC."
   ]
  },
  {
   "cell_type": "code",
   "execution_count": 1,
   "id": "c41f2eee",
   "metadata": {
    "cellView": "form",
    "execution": {
     "iopub.execute_input": "2024-12-28T23:19:25.505462Z",
     "iopub.status.busy": "2024-12-28T23:19:25.504936Z",
     "iopub.status.idle": "2024-12-28T23:19:25.510589Z",
     "shell.execute_reply": "2024-12-28T23:19:25.509717Z"
    },
    "id": "5u5OZ2ShA3BA",
    "jupyter": {
     "source_hidden": true
    },
    "papermill": {
     "duration": 0.021808,
     "end_time": "2024-12-28T23:19:25.512660",
     "exception": false,
     "start_time": "2024-12-28T23:19:25.490852",
     "status": "completed"
    },
    "tags": []
   },
   "outputs": [],
   "source": [
    "# @title Licensed under the Apache License, Version 2.0 (the \"License\");\n",
    "# you may not use this file except in compliance with the License.\n",
    "# You may obtain a copy of the License at\n",
    "#\n",
    "# https://www.apache.org/licenses/LICENSE-2.0\n",
    "#\n",
    "# Unless required by applicable law or agreed to in writing, software\n",
    "# distributed under the License is distributed on an \"AS IS\" BASIS,\n",
    "# WITHOUT WARRANTIES OR CONDITIONS OF ANY KIND, either express or implied.\n",
    "# See the License for the specific language governing permissions and\n",
    "# limitations under the License."
   ]
  },
  {
   "cell_type": "markdown",
   "id": "632b1bcd",
   "metadata": {
    "id": "csNPnkuCobmG",
    "papermill": {
     "duration": 0.011436,
     "end_time": "2024-12-28T23:19:25.536109",
     "exception": false,
     "start_time": "2024-12-28T23:19:25.524673",
     "status": "completed"
    },
    "tags": []
   },
   "source": [
    "# Day 1 - Prompting\n",
    "\n",
    "Welcome to the Kaggle 5-day Generative AI course!\n",
    "\n",
    "This notebook will show you how to get started with the Gemini API and walk you through some of the example prompts and techniques that you can also read about in the Prompting whitepaper. You don't need to read the whitepaper to use this notebook, but the papers will give you some theoretical context and background to complement this interactive notebook.\n",
    "\n",
    "\n",
    "## Before you begin\n",
    "\n",
    "In this notebook, you'll start exploring prompts and prompt parameters using the Python SDK and AI Studio. For some inspiration, you might enjoy exploring some apps that have been built using the Gemini family of models. Here are a few that we like, and we think you will too.\n",
    "\n",
    "* [TextFX](https://textfx.withgoogle.com/) is a suite of AI-powered tools for rappers, made in collaboration with Lupe Fiasco,\n",
    "* [SQL Talk](https://sql-talk-r5gdynozbq-uc.a.run.app/) shows how you can talk directly to a database using the Gemini API,\n",
    "* [NotebookLM](https://notebooklm.google/) uses Gemini models to build your own personal AI research assistant.\n",
    "\n",
    "\n",
    "## For help\n",
    "\n",
    "**Common issues are covered in the [FAQ and troubleshooting guide](https://www.kaggle.com/code/markishere/day-0-troubleshooting-and-faqs).**\n",
    "\n",
    "### A note on the Gemini API and Vertex AI\n",
    "\n",
    "In the whitepapers, most of the example code uses the Enterprise [Vertex AI platform](https://cloud.google.com/vertex-ai). In contrast, this notebook, along with the others in this series, will use the [Gemini Developer API](https://ai.google.dev/gemini-api/) and [AI Studio](https://aistudio.google.com/).\n",
    "\n",
    "Both APIs provide access to the Gemini family of models, and the code to interact with the models is very similar. Vertex provides a world-class platform for enterprises, governments and advanced users that need powerful features like data governance, ML ops and deep Google Cloud integration.\n",
    "\n",
    "AI Studio is free to use and only requires a compatible Google account to log in and get started. It is deeply integrated with the Gemini API, which comes with a generous [free tier](https://ai.google.dev/pricing) that you can use to run the code in these exercises.\n",
    "\n",
    "If you are already set up with Google Cloud, you can check out the [Enterprise Gemini API](https://cloud.google.com/vertex-ai/generative-ai/docs/model-reference/inference) through Vertex AI, and run the samples directly from the supplied whitepapers."
   ]
  },
  {
   "cell_type": "markdown",
   "id": "2cee70b9",
   "metadata": {
    "id": "UAjUV3BsvFXQ",
    "papermill": {
     "duration": 0.011425,
     "end_time": "2024-12-28T23:19:25.559176",
     "exception": false,
     "start_time": "2024-12-28T23:19:25.547751",
     "status": "completed"
    },
    "tags": []
   },
   "source": [
    "### Install the SDK"
   ]
  },
  {
   "cell_type": "code",
   "execution_count": 2,
   "id": "2cc000da",
   "metadata": {
    "execution": {
     "iopub.execute_input": "2024-12-28T23:19:25.583789Z",
     "iopub.status.busy": "2024-12-28T23:19:25.583432Z",
     "iopub.status.idle": "2024-12-28T23:19:51.537566Z",
     "shell.execute_reply": "2024-12-28T23:19:51.536248Z"
    },
    "id": "NzwzJFU9LqkJ",
    "papermill": {
     "duration": 25.96945,
     "end_time": "2024-12-28T23:19:51.540250",
     "exception": false,
     "start_time": "2024-12-28T23:19:25.570800",
     "status": "completed"
    },
    "tags": []
   },
   "outputs": [
    {
     "name": "stdout",
     "output_type": "stream",
     "text": [
      "Note: you may need to restart the kernel to use updated packages.\n"
     ]
    }
   ],
   "source": [
    "%pip install -U -q \"google-generativeai>=0.8.3\""
   ]
  },
  {
   "cell_type": "markdown",
   "id": "bd5e1715",
   "metadata": {
    "papermill": {
     "duration": 0.011309,
     "end_time": "2024-12-28T23:19:51.563964",
     "exception": false,
     "start_time": "2024-12-28T23:19:51.552655",
     "status": "completed"
    },
    "tags": []
   },
   "source": [
    "You do not need to restart the kernel."
   ]
  },
  {
   "cell_type": "code",
   "execution_count": 3,
   "id": "e1cad43a",
   "metadata": {
    "execution": {
     "iopub.execute_input": "2024-12-28T23:19:51.589975Z",
     "iopub.status.busy": "2024-12-28T23:19:51.589365Z",
     "iopub.status.idle": "2024-12-28T23:19:52.619565Z",
     "shell.execute_reply": "2024-12-28T23:19:52.618451Z"
    },
    "id": "5DwxYIRavMST",
    "papermill": {
     "duration": 1.046015,
     "end_time": "2024-12-28T23:19:52.621993",
     "exception": false,
     "start_time": "2024-12-28T23:19:51.575978",
     "status": "completed"
    },
    "tags": []
   },
   "outputs": [],
   "source": [
    "import google.generativeai as genai\n",
    "from IPython.display import HTML, Markdown, display"
   ]
  },
  {
   "cell_type": "markdown",
   "id": "4d7a1f56",
   "metadata": {
    "id": "DNEt2BCOvOJ1",
    "papermill": {
     "duration": 0.01138,
     "end_time": "2024-12-28T23:19:52.646100",
     "exception": false,
     "start_time": "2024-12-28T23:19:52.634720",
     "status": "completed"
    },
    "tags": []
   },
   "source": [
    "### Set up your API key\n",
    "\n",
    "To run the following cell, your API key must be stored it in a [Kaggle secret](https://www.kaggle.com/discussions/product-feedback/114053) named `GOOGLE_API_KEY`.\n",
    "\n",
    "If you don't already have an API key, you can grab one from [AI Studio](https://aistudio.google.com/app/apikey). You can find [detailed instructions in the docs](https://ai.google.dev/gemini-api/docs/api-key).\n",
    "\n",
    "To make the key available through Kaggle secrets, choose `Secrets` from the `Add-ons` menu and follow the instructions to add your key or enable it for this notebook."
   ]
  },
  {
   "cell_type": "code",
   "execution_count": 4,
   "id": "a89ead0e",
   "metadata": {
    "execution": {
     "iopub.execute_input": "2024-12-28T23:19:52.671467Z",
     "iopub.status.busy": "2024-12-28T23:19:52.670687Z",
     "iopub.status.idle": "2024-12-28T23:19:52.866428Z",
     "shell.execute_reply": "2024-12-28T23:19:52.865081Z"
    },
    "id": "SHl0bkPCvayd",
    "papermill": {
     "duration": 0.211188,
     "end_time": "2024-12-28T23:19:52.869014",
     "exception": false,
     "start_time": "2024-12-28T23:19:52.657826",
     "status": "completed"
    },
    "tags": []
   },
   "outputs": [],
   "source": [
    "from kaggle_secrets import UserSecretsClient\n",
    "\n",
    "GOOGLE_API_KEY = UserSecretsClient().get_secret(\"GOOGLE_API_KEY\")\n",
    "genai.configure(api_key=GOOGLE_API_KEY)"
   ]
  },
  {
   "attachments": {
    "d2be9aab-2527-48af-b6cf-1f06cdd7c3a7.png": {
     "image/png": "[encoded data removed]"
    }
   },
   "cell_type": "markdown",
   "id": "593228f7",
   "metadata": {
    "id": "4e720472fd86",
    "papermill": {
     "duration": 0.0113,
     "end_time": "2024-12-28T23:19:52.892189",
     "exception": false,
     "start_time": "2024-12-28T23:19:52.880889",
     "status": "completed"
    },
    "tags": []
   },
   "source": [
    "If you received an error response along the lines of `No user secrets exist for kernel id ...`, then you need to add your API key via `Add-ons`, `Secrets` **and** enable it.\n",
    "\n",
    "![Screenshot of the checkbox to enable GOOGLE_API_KEY secret](https://storage.googleapis.com/kaggle-media/Images/5gdai_sc_3.png)"
   ]
  },
  {
   "cell_type": "markdown",
   "id": "a33728f8",
   "metadata": {
    "id": "H_YXCYIKvyZJ",
    "papermill": {
     "duration": 0.011145,
     "end_time": "2024-12-28T23:19:52.914986",
     "exception": false,
     "start_time": "2024-12-28T23:19:52.903841",
     "status": "completed"
    },
    "tags": []
   },
   "source": [
    "### Run your first prompt\n",
    "\n",
    "In this step, you will test that your API key is set up correctly by making a request. The `gemini-1.5-flash` model has been selected here."
   ]
  },
  {
   "cell_type": "code",
   "execution_count": 5,
   "id": "c851eb55",
   "metadata": {
    "execution": {
     "iopub.execute_input": "2024-12-28T23:19:52.939774Z",
     "iopub.status.busy": "2024-12-28T23:19:52.939358Z",
     "iopub.status.idle": "2024-12-28T23:19:55.294358Z",
     "shell.execute_reply": "2024-12-28T23:19:55.292878Z"
    },
    "id": "BV1o0PmcvyJF",
    "papermill": {
     "duration": 2.370359,
     "end_time": "2024-12-28T23:19:55.296779",
     "exception": false,
     "start_time": "2024-12-28T23:19:52.926420",
     "status": "completed"
    },
    "tags": []
   },
   "outputs": [
    {
     "name": "stdout",
     "output_type": "stream",
     "text": [
      "Imagine you have a really smart puppy.  You teach it tricks, like \"sit\" and \"fetch.\"  At first, the puppy doesn't know what those words mean. But you show it, and give it treats when it does it right.  Slowly, the puppy learns!\n",
      "\n",
      "Artificial Intelligence, or AI, is like teaching a computer to be smart, just like you teach your puppy.  Instead of treats, we give the computer lots and lots of information, like pictures of cats and dogs, or sentences in different languages.  The computer learns from this information, and gets better and better at things like:\n",
      "\n",
      "* **Recognizing things:**  Like knowing a picture is a cat, not a dog.\n",
      "* **Understanding language:**  Like understanding what you mean when you say \"I want a story about a princess.\"\n",
      "* **Playing games:**  Like beating you at chess or even video games!\n",
      "\n",
      "It's not magic!  It's just clever programming that lets the computer learn and solve problems on its own, just like your clever puppy learns new tricks.  But remember, AI is still learning, just like your puppy – it's not perfect, yet!\n",
      "\n"
     ]
    }
   ],
   "source": [
    "flash = genai.GenerativeModel('gemini-1.5-flash')\n",
    "response = flash.generate_content(\"Explain AI to me like I'm a kid.\")\n",
    "print(response.text)"
   ]
  },
  {
   "cell_type": "markdown",
   "id": "085990d1",
   "metadata": {
    "id": "f60ed9d8ae41",
    "papermill": {
     "duration": 0.012009,
     "end_time": "2024-12-28T23:19:55.320923",
     "exception": false,
     "start_time": "2024-12-28T23:19:55.308914",
     "status": "completed"
    },
    "tags": []
   },
   "source": [
    "The response often comes back in markdown format, which you can render directly in this notebook."
   ]
  },
  {
   "cell_type": "code",
   "execution_count": 6,
   "id": "c60b276b",
   "metadata": {
    "execution": {
     "iopub.execute_input": "2024-12-28T23:19:55.346366Z",
     "iopub.status.busy": "2024-12-28T23:19:55.346014Z",
     "iopub.status.idle": "2024-12-28T23:19:55.354429Z",
     "shell.execute_reply": "2024-12-28T23:19:55.353452Z"
    },
    "id": "c933e5e460a5",
    "papermill": {
     "duration": 0.024013,
     "end_time": "2024-12-28T23:19:55.356912",
     "exception": false,
     "start_time": "2024-12-28T23:19:55.332899",
     "status": "completed"
    },
    "tags": []
   },
   "outputs": [
    {
     "data": {
      "text/markdown": [
       "Imagine you have a really smart puppy.  You teach it tricks, like \"sit\" and \"fetch.\"  At first, the puppy doesn't know what those words mean. But you show it, and give it treats when it does it right.  Slowly, the puppy learns!\n",
       "\n",
       "Artificial Intelligence, or AI, is like teaching a computer to be smart, just like you teach your puppy.  Instead of treats, we give the computer lots and lots of information, like pictures of cats and dogs, or sentences in different languages.  The computer learns from this information, and gets better and better at things like:\n",
       "\n",
       "* **Recognizing things:**  Like knowing a picture is a cat, not a dog.\n",
       "* **Understanding language:**  Like understanding what you mean when you say \"I want a story about a princess.\"\n",
       "* **Playing games:**  Like beating you at chess or even video games!\n",
       "\n",
       "It's not magic!  It's just clever programming that lets the computer learn and solve problems on its own, just like your clever puppy learns new tricks.  But remember, AI is still learning, just like your puppy – it's not perfect, yet!\n"
      ],
      "text/plain": [
       "<IPython.core.display.Markdown object>"
      ]
     },
     "execution_count": 6,
     "metadata": {},
     "output_type": "execute_result"
    }
   ],
   "source": [
    "Markdown(response.text)"
   ]
  },
  {
   "cell_type": "markdown",
   "id": "8bb5afc7",
   "metadata": {
    "id": "byx0pT9ZMW2Q",
    "papermill": {
     "duration": 0.011863,
     "end_time": "2024-12-28T23:19:55.381066",
     "exception": false,
     "start_time": "2024-12-28T23:19:55.369203",
     "status": "completed"
    },
    "tags": []
   },
   "source": [
    "### Start a chat\n",
    "\n",
    "The previous example uses a single-turn, text-in/text-out structure, but you can also set up a multi-turn chat structure too."
   ]
  },
  {
   "cell_type": "code",
   "execution_count": 7,
   "id": "4e1374ed",
   "metadata": {
    "execution": {
     "iopub.execute_input": "2024-12-28T23:19:55.407300Z",
     "iopub.status.busy": "2024-12-28T23:19:55.406260Z",
     "iopub.status.idle": "2024-12-28T23:19:55.940846Z",
     "shell.execute_reply": "2024-12-28T23:19:55.939752Z"
    },
    "id": "lV_S5ZL5MidD",
    "papermill": {
     "duration": 0.549961,
     "end_time": "2024-12-28T23:19:55.943120",
     "exception": false,
     "start_time": "2024-12-28T23:19:55.393159",
     "status": "completed"
    },
    "tags": []
   },
   "outputs": [
    {
     "name": "stdout",
     "output_type": "stream",
     "text": [
      "Hello Han! It's nice to meet you.  How can I help you today?\n",
      "\n"
     ]
    }
   ],
   "source": [
    "chat = flash.start_chat(history=[])\n",
    "response = chat.send_message('Hello! My name is Han.')\n",
    "print(response.text)"
   ]
  },
  {
   "cell_type": "code",
   "execution_count": 8,
   "id": "9ed89b73",
   "metadata": {
    "execution": {
     "iopub.execute_input": "2024-12-28T23:19:55.970045Z",
     "iopub.status.busy": "2024-12-28T23:19:55.969661Z",
     "iopub.status.idle": "2024-12-28T23:19:57.195576Z",
     "shell.execute_reply": "2024-12-28T23:19:57.194452Z"
    },
    "id": "7b0372c3c64a",
    "papermill": {
     "duration": 1.24222,
     "end_time": "2024-12-28T23:19:57.197859",
     "exception": false,
     "start_time": "2024-12-28T23:19:55.955639",
     "status": "completed"
    },
    "tags": []
   },
   "outputs": [
    {
     "name": "stdout",
     "output_type": "stream",
     "text": [
      "There's a lot of interesting things about dinosaurs!  To pick just one, how about this:  **Some dinosaurs had feathers!**\n",
      "\n",
      "While we often picture dinosaurs as scaly reptiles, many, especially theropods (the group that includes *Tyrannosaurus rex*, but also smaller, bird-like dinosaurs), had feathers.  These feathers weren't necessarily like the feathers of birds today; some were fluffy, downy structures, while others were more complex.  This discovery has been crucial in understanding the evolutionary link between dinosaurs and modern birds.  Birds are, in fact, considered to be direct descendants of feathered dinosaurs.\n",
      "\n"
     ]
    }
   ],
   "source": [
    "response = chat.send_message('Can you tell something interesting about dinosaurs?')\n",
    "print(response.text)"
   ]
  },
  {
   "cell_type": "code",
   "execution_count": 9,
   "id": "6d696b1c",
   "metadata": {
    "execution": {
     "iopub.execute_input": "2024-12-28T23:19:57.223868Z",
     "iopub.status.busy": "2024-12-28T23:19:57.223483Z",
     "iopub.status.idle": "2024-12-28T23:19:58.305597Z",
     "shell.execute_reply": "2024-12-28T23:19:58.304423Z"
    },
    "papermill": {
     "duration": 1.097959,
     "end_time": "2024-12-28T23:19:58.308000",
     "exception": false,
     "start_time": "2024-12-28T23:19:57.210041",
     "status": "completed"
    },
    "tags": []
   },
   "outputs": [
    {
     "name": "stdout",
     "output_type": "stream",
     "text": [
      "Peter Rabbit, a cheeky young rabbit, disobeys his mother's warning and ventures into Mr. McGregor's garden.  He feasts on lettuce, radishes, and other vegetables, but is nearly caught by Mr. McGregor, who chases him through the garden.  Peter narrowly escapes, losing his jacket and shoes in the process, and rushes home, tired and frightened, only to find his mother waiting anxiously.  He receives a scolding but also a warm welcome back, and eventually, he eats some chamomile tea to calm down before going to bed.\n",
      "\n"
     ]
    }
   ],
   "source": [
    "response = chat.send_message('Can you tell me a brief story of Peter Rabbit?')\n",
    "print(response.text)"
   ]
  },
  {
   "cell_type": "code",
   "execution_count": 10,
   "id": "8d1d6237",
   "metadata": {
    "execution": {
     "iopub.execute_input": "2024-12-28T23:19:58.334202Z",
     "iopub.status.busy": "2024-12-28T23:19:58.333841Z",
     "iopub.status.idle": "2024-12-28T23:19:58.857908Z",
     "shell.execute_reply": "2024-12-28T23:19:58.856484Z"
    },
    "id": "d3f9591392a7",
    "papermill": {
     "duration": 0.540003,
     "end_time": "2024-12-28T23:19:58.860316",
     "exception": false,
     "start_time": "2024-12-28T23:19:58.320313",
     "status": "completed"
    },
    "tags": []
   },
   "outputs": [
    {
     "name": "stdout",
     "output_type": "stream",
     "text": [
      "Yes, you told me your name is Han.\n",
      "\n"
     ]
    }
   ],
   "source": [
    "# While you have the `chat` object around, the conversation state\n",
    "# persists. Confirm that by asking if it knows my name.\n",
    "response = chat.send_message('Do you remember what my name is?')\n",
    "print(response.text)"
   ]
  },
  {
   "cell_type": "markdown",
   "id": "b0b1cfe6",
   "metadata": {
    "id": "2KAjpr1200sW",
    "papermill": {
     "duration": 0.014055,
     "end_time": "2024-12-28T23:19:58.893773",
     "exception": false,
     "start_time": "2024-12-28T23:19:58.879718",
     "status": "completed"
    },
    "tags": []
   },
   "source": [
    "### Choose a model\n",
    "\n",
    "The Gemini API provides access to a number of models from the Gemini model family. Read about the available models and their capabilities on the [model overview page](https://ai.google.dev/gemini-api/docs/models/gemini).\n",
    "\n",
    "In this step you'll use the API to list all of the available models."
   ]
  },
  {
   "cell_type": "code",
   "execution_count": 11,
   "id": "38b7fd61",
   "metadata": {
    "execution": {
     "iopub.execute_input": "2024-12-28T23:19:58.920877Z",
     "iopub.status.busy": "2024-12-28T23:19:58.920488Z",
     "iopub.status.idle": "2024-12-28T23:19:59.338805Z",
     "shell.execute_reply": "2024-12-28T23:19:59.337659Z"
    },
    "id": "uUUZa2uq2jDm",
    "papermill": {
     "duration": 0.43439,
     "end_time": "2024-12-28T23:19:59.341210",
     "exception": false,
     "start_time": "2024-12-28T23:19:58.906820",
     "status": "completed"
    },
    "tags": []
   },
   "outputs": [
    {
     "name": "stdout",
     "output_type": "stream",
     "text": [
      "models/chat-bison-001\n",
      "models/text-bison-001\n",
      "models/embedding-gecko-001\n",
      "models/gemini-1.0-pro-latest\n",
      "models/gemini-1.0-pro\n",
      "models/gemini-pro\n",
      "models/gemini-1.0-pro-001\n",
      "models/gemini-1.0-pro-vision-latest\n",
      "models/gemini-pro-vision\n",
      "models/gemini-1.5-pro-latest\n",
      "models/gemini-1.5-pro-001\n",
      "models/gemini-1.5-pro-002\n",
      "models/gemini-1.5-pro\n",
      "models/gemini-1.5-pro-exp-0801\n",
      "models/gemini-1.5-pro-exp-0827\n",
      "models/gemini-1.5-flash-latest\n",
      "models/gemini-1.5-flash-001\n",
      "models/gemini-1.5-flash-001-tuning\n",
      "models/gemini-1.5-flash\n",
      "models/gemini-1.5-flash-exp-0827\n",
      "models/gemini-1.5-flash-002\n",
      "models/gemini-1.5-flash-8b\n",
      "models/gemini-1.5-flash-8b-001\n",
      "models/gemini-1.5-flash-8b-latest\n",
      "models/gemini-1.5-flash-8b-exp-0827\n",
      "models/gemini-1.5-flash-8b-exp-0924\n",
      "models/gemini-2.0-flash-exp\n",
      "models/gemini-exp-1206\n",
      "models/gemini-exp-1121\n",
      "models/gemini-exp-1114\n",
      "models/gemini-2.0-flash-thinking-exp\n",
      "models/gemini-2.0-flash-thinking-exp-1219\n",
      "models/learnlm-1.5-pro-experimental\n",
      "models/embedding-001\n",
      "models/text-embedding-004\n",
      "models/aqa\n"
     ]
    }
   ],
   "source": [
    "for model in genai.list_models():\n",
    "  print(model.name)"
   ]
  },
  {
   "cell_type": "markdown",
   "id": "1ff0eb9b",
   "metadata": {
    "id": "rN49kSI54R1v",
    "papermill": {
     "duration": 0.012171,
     "end_time": "2024-12-28T23:19:59.365966",
     "exception": false,
     "start_time": "2024-12-28T23:19:59.353795",
     "status": "completed"
    },
    "tags": []
   },
   "source": [
    "The [`models.list`](https://ai.google.dev/api/models#method:-models.list) response also returns additional information about the model's capabilities, like the token limits and supported parameters."
   ]
  },
  {
   "cell_type": "code",
   "execution_count": 12,
   "id": "b558d9b7",
   "metadata": {
    "execution": {
     "iopub.execute_input": "2024-12-28T23:19:59.392788Z",
     "iopub.status.busy": "2024-12-28T23:19:59.392407Z",
     "iopub.status.idle": "2024-12-28T23:19:59.526811Z",
     "shell.execute_reply": "2024-12-28T23:19:59.525698Z"
    },
    "id": "k7JJ1K6j4Rl8",
    "papermill": {
     "duration": 0.150006,
     "end_time": "2024-12-28T23:19:59.528945",
     "exception": false,
     "start_time": "2024-12-28T23:19:59.378939",
     "status": "completed"
    },
    "tags": []
   },
   "outputs": [
    {
     "name": "stdout",
     "output_type": "stream",
     "text": [
      "Model(name='models/gemini-1.5-flash',\n",
      "      base_model_id='',\n",
      "      version='001',\n",
      "      display_name='Gemini 1.5 Flash',\n",
      "      description=('Alias that points to the most recent stable version of Gemini 1.5 Flash, our '\n",
      "                   'fast and versatile multimodal model for scaling across diverse tasks.'),\n",
      "      input_token_limit=1000000,\n",
      "      output_token_limit=8192,\n",
      "      supported_generation_methods=['generateContent', 'countTokens'],\n",
      "      temperature=1.0,\n",
      "      max_temperature=2.0,\n",
      "      top_p=0.95,\n",
      "      top_k=40)\n"
     ]
    }
   ],
   "source": [
    "for model in genai.list_models():\n",
    "  if model.name == 'models/gemini-1.5-flash':\n",
    "    print(model)\n",
    "    break"
   ]
  },
  {
   "cell_type": "markdown",
   "id": "a98cee36",
   "metadata": {
    "id": "5rU_UBlZdooM",
    "papermill": {
     "duration": 0.012196,
     "end_time": "2024-12-28T23:19:59.553836",
     "exception": false,
     "start_time": "2024-12-28T23:19:59.541640",
     "status": "completed"
    },
    "tags": []
   },
   "source": [
    "## Explore generation parameters\n",
    "\n"
   ]
  },
  {
   "cell_type": "markdown",
   "id": "109aa461",
   "metadata": {
    "id": "G7NfEizeipbW",
    "papermill": {
     "duration": 0.012053,
     "end_time": "2024-12-28T23:19:59.578623",
     "exception": false,
     "start_time": "2024-12-28T23:19:59.566570",
     "status": "completed"
    },
    "tags": []
   },
   "source": [
    "### Output length\n",
    "\n",
    "When generating text with an LLM, the output length affects cost and performance. Generating more tokens increases computation, leading to higher energy consumption, latency, and cost.\n",
    "\n",
    "To stop the model from generating tokens past a limit, you can specify the `max_output_tokens` parameter when using the Gemini API. Specifying this parameter does not influence the generation of the output tokens, so the output will not become more stylistically or textually succinct, but it will stop generating tokens once the specified length is reached. Prompt engineering may be required to generate a more complete output for your given limit."
   ]
  },
  {
   "cell_type": "code",
   "execution_count": 13,
   "id": "4e23ca93",
   "metadata": {
    "execution": {
     "iopub.execute_input": "2024-12-28T23:19:59.605825Z",
     "iopub.status.busy": "2024-12-28T23:19:59.604833Z",
     "iopub.status.idle": "2024-12-28T23:20:01.420301Z",
     "shell.execute_reply": "2024-12-28T23:20:01.419059Z"
    },
    "id": "qVf23JsIi9ma",
    "papermill": {
     "duration": 1.831506,
     "end_time": "2024-12-28T23:20:01.422681",
     "exception": false,
     "start_time": "2024-12-28T23:19:59.591175",
     "status": "completed"
    },
    "tags": []
   },
   "outputs": [
    {
     "name": "stdout",
     "output_type": "stream",
     "text": [
      "## The Enduring Significance of Olives in Modern Society\n",
      "\n",
      "The olive, a seemingly unassuming fruit, holds a position of profound significance in modern society that extends far beyond its culinary applications.  Its history is intertwined with human civilization, its cultivation shaping landscapes, economies, and cultures across millennia.  From the Mediterranean basin, where it originated, to global markets, the olive and its derivatives – olive oil, olives for consumption, and olive pomace – continue to play vital roles in nutrition, economics, and cultural heritage. This essay will explore the multifaceted importance of olives in the contemporary world, examining its contributions to health, agriculture, industry, and cultural identity.\n",
      "\n",
      "The most widely recognized contribution of olives to modern society is undoubtedly their nutritional value.  Olive oil, extracted from the fruit, is a cornerstone of the Mediterranean diet, renowned for its health benefits and associated with lower risks of cardiovascular disease, certain cancers, and type 2 diabetes.  This is largely attributed to its high monounsaturated\n"
     ]
    }
   ],
   "source": [
    "short_model = genai.GenerativeModel(\n",
    "    'gemini-1.5-flash',\n",
    "    generation_config=genai.GenerationConfig(max_output_tokens=200))\n",
    "\n",
    "response = short_model.generate_content('Write a 1000 word essay on the importance of olives in modern society.')\n",
    "print(response.text)"
   ]
  },
  {
   "cell_type": "code",
   "execution_count": 14,
   "id": "818d0ed0",
   "metadata": {
    "execution": {
     "iopub.execute_input": "2024-12-28T23:20:01.450055Z",
     "iopub.status.busy": "2024-12-28T23:20:01.449026Z",
     "iopub.status.idle": "2024-12-28T23:20:02.362724Z",
     "shell.execute_reply": "2024-12-28T23:20:02.361320Z"
    },
    "id": "W-3kR2F5kdMR",
    "papermill": {
     "duration": 0.929954,
     "end_time": "2024-12-28T23:20:02.365187",
     "exception": false,
     "start_time": "2024-12-28T23:20:01.435233",
     "status": "completed"
    },
    "tags": []
   },
   "outputs": [
    {
     "name": "stdout",
     "output_type": "stream",
     "text": [
      "From ancient groves, a modern grace,\n",
      "The olive thrives, in time and space.\n",
      "Its oil, a gleam on countless plates,\n",
      "A flavor prized, that elevates.\n",
      "\n",
      "From salad dressing, light and bright,\n",
      "To soaps that cleanse, and lamps that light,\n",
      "The olive's gift, a versatile hand,\n",
      "A staple strong, throughout the land. \n",
      "\n"
     ]
    }
   ],
   "source": [
    "response = short_model.generate_content('Write a short poem on the importance of olives in modern society.')\n",
    "print(response.text)"
   ]
  },
  {
   "cell_type": "markdown",
   "id": "949c2f20",
   "metadata": {
    "id": "3ZhDSLB6lqqB",
    "papermill": {
     "duration": 0.012702,
     "end_time": "2024-12-28T23:20:02.391568",
     "exception": false,
     "start_time": "2024-12-28T23:20:02.378866",
     "status": "completed"
    },
    "tags": []
   },
   "source": [
    "Explore with your own prompts. Try a prompt with a restrictive output limit and then adjust the prompt to work within that limit."
   ]
  },
  {
   "cell_type": "code",
   "execution_count": 15,
   "id": "2b01de56",
   "metadata": {
    "execution": {
     "iopub.execute_input": "2024-12-28T23:20:02.418614Z",
     "iopub.status.busy": "2024-12-28T23:20:02.418208Z",
     "iopub.status.idle": "2024-12-28T23:20:05.564517Z",
     "shell.execute_reply": "2024-12-28T23:20:05.563259Z"
    },
    "papermill": {
     "duration": 3.162699,
     "end_time": "2024-12-28T23:20:05.567059",
     "exception": false,
     "start_time": "2024-12-28T23:20:02.404360",
     "status": "completed"
    },
    "tags": []
   },
   "outputs": [
    {
     "name": "stdout",
     "output_type": "stream",
     "text": [
      "The sun beat down on Finley the fox, baking the dusty hillside to a crisp. His stomach rumbled, a low, mournful growl that echoed the emptiness within.  He’d been hunting all morning, his usual cunning failing him.  Every rabbit darted just out of reach, every plump field mouse vanished into its burrow before he could pounce.\n",
      "\n",
      "Then, he saw them.\n",
      "\n",
      "High above, clinging to a vine that snaked across a sun-drenched wall, hung clusters of grapes.  Fat, purple, and glistening, they looked like jewels spilled from some celestial treasure chest.  Finley’s mouth watered.  These were the finest grapes he’d ever seen.\n",
      "\n",
      "He leaped, his lithe body a blur of red fur.  He stretched, his paws scrabbling at the smooth stone, but the grapes remained tantalizingly out of reach.  He tried again, his muscles straining, his breath catching in his throat.  He jumped and leaped, a frantic, furry acrobat, but the grapes mocked him with their unattainable sweetness.\n",
      "\n",
      "Finally, exhausted and frustrated, he slumped to the ground, panting.  He watched as a fat bumblebee buzzed lazily around the grapes, seemingly unconcerned with the effort required to reach their sugary bounty.\n",
      "\n",
      "A familiar bitterness welled up in Finley’s chest.  He sat there, licking a dusty paw, and muttered to himself, “Oh, well.  They’re probably sour anyway.  Not worth the effort.”\n",
      "\n",
      "He turned and stalked away, his tail low, a picture of disgruntled indifference.  But as he trotted into the shadows, a tiny, almost imperceptible twitch of his lip betrayed the truth.  He hadn’t given up because he thought the grapes were sour. He’d given up because he couldn't reach them.  The sourness was a convenient excuse, a mask for his own failure.  And as the sun dipped below the horizon, casting long shadows across the land, Finley knew that the true bitterness resided not in the grapes, but in his own unfulfilled hunger.\n",
      "\n"
     ]
    }
   ],
   "source": [
    "short_model = genai.GenerativeModel(\n",
    "    'gemini-1.5-flash',\n",
    "    generation_config = genai.GenerationConfig(max_output_tokens=500)\n",
    ")\n",
    "response = short_model.generate_content('Tell a story about the fox and the grapes.')\n",
    "print(response.text)"
   ]
  },
  {
   "cell_type": "code",
   "execution_count": 16,
   "id": "c4a9a288",
   "metadata": {
    "execution": {
     "iopub.execute_input": "2024-12-28T23:20:05.594292Z",
     "iopub.status.busy": "2024-12-28T23:20:05.593923Z",
     "iopub.status.idle": "2024-12-28T23:20:07.058202Z",
     "shell.execute_reply": "2024-12-28T23:20:07.057156Z"
    },
    "papermill": {
     "duration": 1.480562,
     "end_time": "2024-12-28T23:20:07.060589",
     "exception": false,
     "start_time": "2024-12-28T23:20:05.580027",
     "status": "completed"
    },
    "tags": []
   },
   "outputs": [
    {
     "name": "stdout",
     "output_type": "stream",
     "text": [
      "A hungry fox spots a bunch of juicy grapes hanging high on a vine.  He tries repeatedly to reach them, but fails.  Finally, he declares the grapes must be sour anyway, and walks away.\n",
      "\n",
      "**Lessons:**\n",
      "\n",
      "* **Sour grapes:** This story gives us the idiom \"sour grapes,\" which describes someone who belittles something they cannot attain.  It highlights the tendency to rationalize failure or disappointment rather than admit inability.\n",
      "* **Facing reality:**  The fox's actions show the importance of accepting reality, even when it's unpleasant.  Instead of persevering or finding another way, he chose self-deception.\n",
      "* **Honest self-assessment:**  The story encourages honest self-reflection and a willingness to admit limitations.  True success often comes from recognizing our weaknesses and adapting our strategies.\n",
      "\n"
     ]
    }
   ],
   "source": [
    "response = short_model.generate_content('Tell a short summary and lessons from the story the fox and the grapes.')\n",
    "print(response.text)"
   ]
  },
  {
   "cell_type": "markdown",
   "id": "0035ad95",
   "metadata": {
    "id": "alx-WaAvir_9",
    "papermill": {
     "duration": 0.01275,
     "end_time": "2024-12-28T23:20:07.086345",
     "exception": false,
     "start_time": "2024-12-28T23:20:07.073595",
     "status": "completed"
    },
    "tags": []
   },
   "source": [
    "### Temperature\n",
    "\n",
    "Temperature controls the degree of randomness in token selection. Higher temperatures result in a higher number of candidate tokens from which the next output token is selected, and can produce more diverse results, while lower temperatures have the opposite effect, such that a temperature of 0 results in greedy decoding, selecting the most probable token at each step.\n",
    "\n",
    "Temperature doesn't provide any guarantees of randomness, but it can be used to \"nudge\" the output somewhat.\n",
    "\n",
    "**Note that if you see a 429 Resource Exhausted error here, you may be able to edit the words in the prompt slightly to progress.**"
   ]
  },
  {
   "cell_type": "code",
   "execution_count": 17,
   "id": "b72c9c8b",
   "metadata": {
    "execution": {
     "iopub.execute_input": "2024-12-28T23:20:07.114324Z",
     "iopub.status.busy": "2024-12-28T23:20:07.113869Z",
     "iopub.status.idle": "2024-12-28T23:20:09.294844Z",
     "shell.execute_reply": "2024-12-28T23:20:09.293530Z"
    },
    "id": "SHraGMzqnZqt",
    "papermill": {
     "duration": 2.197546,
     "end_time": "2024-12-28T23:20:09.297126",
     "exception": false,
     "start_time": "2024-12-28T23:20:07.099580",
     "status": "completed"
    },
    "tags": []
   },
   "outputs": [
    {
     "name": "stdout",
     "output_type": "stream",
     "text": [
      "Maroon\n",
      " -------------------------\n",
      "Aquamarine\n",
      " -------------------------\n",
      "Maroon\n",
      " -------------------------\n",
      "Aquamarine\n",
      " -------------------------\n",
      "Marigold\n",
      " -------------------------\n"
     ]
    }
   ],
   "source": [
    "from google.api_core import retry\n",
    "\n",
    "high_temp_model = genai.GenerativeModel(\n",
    "    'gemini-1.5-flash',\n",
    "    generation_config=genai.GenerationConfig(temperature=2.0))\n",
    "\n",
    "\n",
    "# When running lots of queries, it's a good practice to use a retry policy so your code\n",
    "# automatically retries when hitting Resource Exhausted (quota limit) errors.\n",
    "retry_policy = {\n",
    "    \"retry\": retry.Retry(predicate=retry.if_transient_error, initial=10, multiplier=1.5, timeout=300)\n",
    "}\n",
    "\n",
    "for _ in range(5):\n",
    "  response = high_temp_model.generate_content('Pick a random colour... (respond in a single word)',\n",
    "                                              request_options=retry_policy)\n",
    "  if response.parts:\n",
    "    print(response.text, '-' * 25)"
   ]
  },
  {
   "cell_type": "markdown",
   "id": "d5827f63",
   "metadata": {
    "id": "z3J4pCTuof7e",
    "papermill": {
     "duration": 0.012772,
     "end_time": "2024-12-28T23:20:09.323032",
     "exception": false,
     "start_time": "2024-12-28T23:20:09.310260",
     "status": "completed"
    },
    "tags": []
   },
   "source": [
    "Now try the same prompt with temperature set to zero. Note that the output is not completely deterministic, as other parameters affect token selection, but the results will tend to be more stable."
   ]
  },
  {
   "cell_type": "code",
   "execution_count": 18,
   "id": "7eef520a",
   "metadata": {
    "execution": {
     "iopub.execute_input": "2024-12-28T23:20:09.350958Z",
     "iopub.status.busy": "2024-12-28T23:20:09.350348Z",
     "iopub.status.idle": "2024-12-28T23:20:11.370925Z",
     "shell.execute_reply": "2024-12-28T23:20:11.369732Z"
    },
    "id": "clymkWv-PfUZ",
    "papermill": {
     "duration": 2.037162,
     "end_time": "2024-12-28T23:20:11.373145",
     "exception": false,
     "start_time": "2024-12-28T23:20:09.335983",
     "status": "completed"
    },
    "tags": []
   },
   "outputs": [
    {
     "name": "stdout",
     "output_type": "stream",
     "text": [
      "Maroon\n",
      " -------------------------\n",
      "Maroon\n",
      " -------------------------\n",
      "Maroon\n",
      " -------------------------\n",
      "Maroon\n",
      " -------------------------\n",
      "Maroon\n",
      " -------------------------\n"
     ]
    }
   ],
   "source": [
    "low_temp_model = genai.GenerativeModel(\n",
    "    'gemini-1.5-flash',\n",
    "    generation_config=genai.GenerationConfig(temperature=0.0))\n",
    "\n",
    "for _ in range(5):\n",
    "  response = low_temp_model.generate_content('Pick a random colour... (respond in a single word)',\n",
    "                                             request_options=retry_policy)\n",
    "  if response.parts:\n",
    "    print(response.text, '-' * 25)"
   ]
  },
  {
   "cell_type": "markdown",
   "id": "ed3bc3e4",
   "metadata": {
    "id": "St5nt3vzitsZ",
    "papermill": {
     "duration": 0.013736,
     "end_time": "2024-12-28T23:20:11.400409",
     "exception": false,
     "start_time": "2024-12-28T23:20:11.386673",
     "status": "completed"
    },
    "tags": []
   },
   "source": [
    "### Top-K and top-P\n",
    "\n",
    "Like temperature, top-K and top-P parameters are also used to control the diversity of the model's output.\n",
    "\n",
    "Top-K is a positive integer that defines the number of most probable tokens from which to select the output token. A top-K of 1 selects a single token, performing greedy decoding.\n",
    "\n",
    "Top-P defines the probability threshold that, once cumulatively exceeded, tokens stop being selected as candidates. A top-P of 0 is typically equivalent to greedy decoding, and a top-P of 1 typically selects every token in the model's vocabulary.\n",
    "\n",
    "When both are supplied, the Gemini API will filter top-K tokens first, then top-P and then finally sample from the candidate tokens using the supplied temperature.\n",
    "\n",
    "Run this example a number of times, change the settings and observe the change in output."
   ]
  },
  {
   "cell_type": "code",
   "execution_count": 19,
   "id": "a8cca98b",
   "metadata": {
    "execution": {
     "iopub.execute_input": "2024-12-28T23:20:11.429167Z",
     "iopub.status.busy": "2024-12-28T23:20:11.428810Z",
     "iopub.status.idle": "2024-12-28T23:20:14.001474Z",
     "shell.execute_reply": "2024-12-28T23:20:14.000145Z"
    },
    "id": "lPlzpEavUV8F",
    "papermill": {
     "duration": 2.589762,
     "end_time": "2024-12-28T23:20:14.003847",
     "exception": false,
     "start_time": "2024-12-28T23:20:11.414085",
     "status": "completed"
    },
    "tags": []
   },
   "outputs": [
    {
     "name": "stdout",
     "output_type": "stream",
     "text": [
      "Bartholomew wasn't your average tabby. He wasn't content with napping in sunbeams and chasing dust bunnies. Bartholomew craved adventure. The world outside his window, a chaotic symphony of buzzing, chirping, and rustling, beckoned him. So, one moonless night, while the humans slept, Bartholomew slipped out the cat flap, his whiskers twitching with anticipation.\n",
      "\n",
      "The world was a jungle of fragrant scents and shadowy shapes. He stalked through the garden, his sleek form weaving between rosebushes and tomato plants. A rustle in the bushes sent him leaping onto a rickety fence, his amber eyes catching a flash of movement. A plump, black rabbit hopped away, leaving Bartholomew panting with a sense of exhilaration.\n",
      "\n",
      "He continued his journey, his paws leading him to a bustling street. Cars zoomed past, their headlights momentarily blinding him. He squeezed under a parked car, his ears pricked, listening to the city's symphony. He found himself in a bustling alleyway, a labyrinth of overflowing bins and cardboard boxes. A chorus of meows greeted him, a tribe of alley cats huddled together.\n",
      "\n",
      "He was offered a share of a discarded tuna sandwich, and they regaled him with tales of daring escapes and daring raids on unsuspecting bins. Bartholomew, enthralled, shared his own exploits, the chase of the rabbit becoming a legendary tale among the alley cats.\n",
      "\n",
      "As the first light of dawn peeked over the rooftops, Bartholomew knew it was time to go home. The humans were stirring, and the smell of bacon filled the air, a siren call he couldn't resist. He left the alley cats, promising to return, and with a final glance at the city's sleeping giants, slipped back through the cat flap.\n",
      "\n",
      "Back in his familiar world, Bartholomew, the adventurer, curled up on the windowsill, a content purr rumbling in his chest. He was a homebody, but he was also a world-explorer, and his night's adventure, etched in his memory, would forever fuel his desire for more. He knew that, in the heart of the ordinary, lay the seeds of the extraordinary. He was Bartholomew, the cat who dared to dream, and that, he knew, was an adventure in itself. \n",
      "\n"
     ]
    }
   ],
   "source": [
    "model = genai.GenerativeModel(\n",
    "    'gemini-1.5-flash-001',\n",
    "    generation_config=genai.GenerationConfig(\n",
    "        # These are the default values for gemini-1.5-flash-001.\n",
    "        temperature=1.0,\n",
    "        top_k=64,\n",
    "        top_p=0.95,\n",
    "    ))\n",
    "\n",
    "story_prompt = \"You are a creative writer. Write a short story about a cat who goes on an adventure.\"\n",
    "response = model.generate_content(story_prompt, request_options=retry_policy)\n",
    "print(response.text)"
   ]
  },
  {
   "cell_type": "code",
   "execution_count": 20,
   "id": "28c4bfb1",
   "metadata": {
    "execution": {
     "iopub.execute_input": "2024-12-28T23:20:14.033217Z",
     "iopub.status.busy": "2024-12-28T23:20:14.032263Z",
     "iopub.status.idle": "2024-12-28T23:20:17.294722Z",
     "shell.execute_reply": "2024-12-28T23:20:17.293337Z"
    },
    "papermill": {
     "duration": 3.279822,
     "end_time": "2024-12-28T23:20:17.297197",
     "exception": false,
     "start_time": "2024-12-28T23:20:14.017375",
     "status": "completed"
    },
    "tags": []
   },
   "outputs": [
    {
     "name": "stdout",
     "output_type": "stream",
     "text": [
      "Bartholomew, a ginger tabby with a perpetually grumpy expression, had always considered his life perfectly adequate. Sunbeams, a steady supply of tuna, and the occasional head scratch from his human, Amelia, were all he desired. However, one fateful Tuesday, a stray feather, imbued with the magic of the wind, drifted through his window and landed on his nose. Suddenly, Bartholomew felt a yearning, a need for something...more. \n",
      "\n",
      "He watched Amelia leave for work, a yearning growing in his chest. He knew what he had to do. He was going on an adventure.\n",
      "\n",
      "He slipped out the window, his whiskers twitching with excitement. The world outside was a symphony of smells - blooming lilacs, damp earth, and the enticing aroma of fish from the nearby market. He followed his nose, a fearless explorer in a world of towering legs and rumbling engines.\n",
      "\n",
      "His adventure led him to the park, a verdant paradise teeming with feathered friends. He stalked a squirrel, a majestic hunter in the dappled sunlight, before realizing he had no real intention of catching it. He simply enjoyed the thrill of the chase. \n",
      "\n",
      "Then, a peculiar sight caught his eye. A group of pigeons huddled around a forgotten pastry, their eyes glinting with greed. Bartholomew, never one to shy away from a good meal, decided to join the feast. A flurry of feathers and a few squawks later, he had successfully claimed his share, his stomach purring with contentment.\n",
      "\n",
      "He spent the rest of the day exploring, his whiskers brushing against the leaves, his paws padding on the sun-warmed pavement. He met a friendly dog, a lumbering beast with a wagging tail and a playful bark. They sniffed each other cautiously, then settled into a comfortable truce, two adventurers sharing a moment of quiet understanding.\n",
      "\n",
      "As the sun began to set, casting long shadows across the park, Bartholomew felt a pang of longing for his home. He knew Amelia would be worried, and he was, after all, a creature of comfort. He found his way back to the window, his heart a little lighter, his whiskers a little wiser.\n",
      "\n",
      "Amelia greeted him with a sigh of relief and a scolding tone, but her eyes held a glimmer of amusement. Bartholomew, curled up on his favorite cushion, purred contentedly. He had tasted adventure, but the warmth of home was truly what he craved.  He was a cat, after all, a creature of routine and affection, and he wouldn't trade his cozy life for all the feathers in the world. But he knew, deep down, that his adventure was just beginning. The world was a vast, exciting place, and Bartholomew, the ginger tabby with a grumpy expression, was ready to explore it, one feather at a time. \n",
      "\n"
     ]
    }
   ],
   "source": [
    "model = genai.GenerativeModel(\n",
    "    'gemini-1.5-flash-001',\n",
    "    generation_config=genai.GenerationConfig(\n",
    "        # These are the default values for gemini-1.5-flash-001.\n",
    "        temperature=1.0,\n",
    "        top_k=80,\n",
    "        top_p=0.90,\n",
    "    ))\n",
    "\n",
    "story_prompt = \"You are a creative writer. Write a short story about a cat who goes on an adventure.\"\n",
    "response = model.generate_content(story_prompt, request_options=retry_policy)\n",
    "print(response.text)"
   ]
  },
  {
   "cell_type": "markdown",
   "id": "02d01b99",
   "metadata": {
    "id": "rMrYs1koY6DX",
    "papermill": {
     "duration": 0.01329,
     "end_time": "2024-12-28T23:20:17.324282",
     "exception": false,
     "start_time": "2024-12-28T23:20:17.310992",
     "status": "completed"
    },
    "tags": []
   },
   "source": [
    "## Prompting\n",
    "\n",
    "This section contains some prompts from the chapter for you to try out directly in the API. Try changing the text here to see how each prompt performs with different instructions, more examples, or any other changes you can think of."
   ]
  },
  {
   "cell_type": "markdown",
   "id": "6a7bbeb0",
   "metadata": {
    "id": "hhj_tQidZJP7",
    "papermill": {
     "duration": 0.013217,
     "end_time": "2024-12-28T23:20:17.350954",
     "exception": false,
     "start_time": "2024-12-28T23:20:17.337737",
     "status": "completed"
    },
    "tags": []
   },
   "source": [
    "### Zero-shot\n",
    "\n",
    "Zero-shot prompts are prompts that describe the request for the model directly.\n",
    "\n",
    "<table align=left>\n",
    "  <td>\n",
    "    <a target=\"_blank\" href=\"https://aistudio.google.com/prompts/1gzKKgDHwkAvexG5Up0LMtl1-6jKMKe4g\"><img src=\"https://ai.google.dev/site-assets/images/marketing/home/icon-ais.png\" style=\"height: 24px\" height=24/> Open in AI Studio</a>\n",
    "  </td>\n",
    "</table>"
   ]
  },
  {
   "cell_type": "code",
   "execution_count": 21,
   "id": "b346e3b3",
   "metadata": {
    "execution": {
     "iopub.execute_input": "2024-12-28T23:20:17.380145Z",
     "iopub.status.busy": "2024-12-28T23:20:17.379746Z",
     "iopub.status.idle": "2024-12-28T23:20:17.734045Z",
     "shell.execute_reply": "2024-12-28T23:20:17.732931Z"
    },
    "id": "1_t-cwnDZzbH",
    "papermill": {
     "duration": 0.371097,
     "end_time": "2024-12-28T23:20:17.736164",
     "exception": false,
     "start_time": "2024-12-28T23:20:17.365067",
     "status": "completed"
    },
    "tags": []
   },
   "outputs": [
    {
     "name": "stdout",
     "output_type": "stream",
     "text": [
      "Sentiment: **POSITIVE**\n"
     ]
    }
   ],
   "source": [
    "model = genai.GenerativeModel(\n",
    "    'gemini-1.5-flash-001',\n",
    "    generation_config=genai.GenerationConfig(\n",
    "        temperature=0.1,\n",
    "        top_p=1,\n",
    "        max_output_tokens=5,\n",
    "    ))\n",
    "\n",
    "zero_shot_prompt = \"\"\"Classify movie reviews as POSITIVE, NEUTRAL or NEGATIVE.\n",
    "Review: \"Her\" is a disturbing study revealing the direction\n",
    "humanity is headed if AI is allowed to keep evolving,\n",
    "unchecked. I wish there were more movies like this masterpiece.\n",
    "Sentiment: \"\"\"\n",
    "\n",
    "response = model.generate_content(zero_shot_prompt, request_options=retry_policy)\n",
    "print(response.text)"
   ]
  },
  {
   "cell_type": "code",
   "execution_count": 22,
   "id": "ed83b852",
   "metadata": {
    "execution": {
     "iopub.execute_input": "2024-12-28T23:20:17.765545Z",
     "iopub.status.busy": "2024-12-28T23:20:17.765116Z",
     "iopub.status.idle": "2024-12-28T23:20:18.115619Z",
     "shell.execute_reply": "2024-12-28T23:20:18.114471Z"
    },
    "papermill": {
     "duration": 0.367664,
     "end_time": "2024-12-28T23:20:18.117905",
     "exception": false,
     "start_time": "2024-12-28T23:20:17.750241",
     "status": "completed"
    },
    "tags": []
   },
   "outputs": [
    {
     "name": "stdout",
     "output_type": "stream",
     "text": [
      "Sentiment: **POSITIVE**\n"
     ]
    }
   ],
   "source": [
    "model = genai.GenerativeModel(\n",
    "    'gemini-1.5-flash-001',\n",
    "    generation_config=genai.GenerationConfig(\n",
    "        temperature=0.1,\n",
    "        top_p=1,\n",
    "        max_output_tokens=5,\n",
    "    ))\n",
    "\n",
    "zero_shot_prompt = \"\"\"Classify movie reviews as POSITIVE, NEUTRAL or NEGATIVE.\n",
    "Review: An insightful, if often crude and narrow, defense of how trade and greater specialization will continue to fuel humanity's progress toward higher living standards and greater human dignity for all. \n",
    "Sentiment: \"\"\"\n",
    "\n",
    "response = model.generate_content(zero_shot_prompt, request_options=retry_policy)\n",
    "print(response.text)"
   ]
  },
  {
   "cell_type": "code",
   "execution_count": 23,
   "id": "38270cc5",
   "metadata": {
    "execution": {
     "iopub.execute_input": "2024-12-28T23:20:18.147559Z",
     "iopub.status.busy": "2024-12-28T23:20:18.147167Z",
     "iopub.status.idle": "2024-12-28T23:20:18.533504Z",
     "shell.execute_reply": "2024-12-28T23:20:18.532471Z"
    },
    "papermill": {
     "duration": 0.403681,
     "end_time": "2024-12-28T23:20:18.535724",
     "exception": false,
     "start_time": "2024-12-28T23:20:18.132043",
     "status": "completed"
    },
    "tags": []
   },
   "outputs": [
    {
     "name": "stdout",
     "output_type": "stream",
     "text": [
      "Sentiment: **NEGATIVE**\n"
     ]
    }
   ],
   "source": [
    "model = genai.GenerativeModel(\n",
    "    'gemini-1.5-flash-001',\n",
    "    generation_config=genai.GenerationConfig(\n",
    "        temperature=0.1,\n",
    "        top_p=1,\n",
    "        max_output_tokens=5,\n",
    "    ))\n",
    "\n",
    "zero_shot_prompt = \"\"\"Classify movie reviews as POSITIVE, NEUTRAL or NEGATIVE.\n",
    "Review: I wanted to like this, but it was filled with total nonsense so I couldn't. Some of it is mildly interesting. None of it is new. And most of the verifiable stuff is distorted into his markets-can-do-no-wrong libertarianism. I even like books that are libertarian. This one was irritating though because it was so blatantly manipulating data and facts. If you want to be an optimist, go read more rational ones like: Abundance, or Pinker, or Sapiens, etc. This is empty nonsense. \n",
    "Sentiment: \"\"\"\n",
    "\n",
    "response = model.generate_content(zero_shot_prompt, request_options=retry_policy)\n",
    "print(response.text)"
   ]
  },
  {
   "cell_type": "code",
   "execution_count": 24,
   "id": "63c03558",
   "metadata": {
    "execution": {
     "iopub.execute_input": "2024-12-28T23:20:18.564802Z",
     "iopub.status.busy": "2024-12-28T23:20:18.564407Z",
     "iopub.status.idle": "2024-12-28T23:20:21.514029Z",
     "shell.execute_reply": "2024-12-28T23:20:21.513030Z"
    },
    "papermill": {
     "duration": 2.966703,
     "end_time": "2024-12-28T23:20:21.516257",
     "exception": false,
     "start_time": "2024-12-28T23:20:18.549554",
     "status": "completed"
    },
    "tags": []
   },
   "outputs": [
    {
     "name": "stdout",
     "output_type": "stream",
     "text": [
      "Sentiment: **POSITIVE**\n"
     ]
    }
   ],
   "source": [
    "model = genai.GenerativeModel(\n",
    "    'gemini-1.5-flash-001',\n",
    "    generation_config=genai.GenerationConfig(\n",
    "        temperature=0.1,\n",
    "        top_p=1,\n",
    "        max_output_tokens=5,\n",
    "    ))\n",
    "zero_shot_prompt = \"\"\"Classify food reviews as POSITIVE, NEUTRAL or NEGATIVE\n",
    "Review: Came with a friend to check out then place because I heard it was popular among friends at the University. \n",
    "To my surprise, the restaurant was empty on a weekend evening, despite the lack of people, we decided to try out their thai food. \n",
    "After studying all day we ordered the Cashew Nut Chicken with jasmine rice and chicken pad thai. \n",
    "The Servers were very nice and respectful, our food came quick and hot. After diving in our food for the first tastes, we were very pleased. The food was amazing. It was first time trying the chicken cashew, and I will definetly be back to get it again. The portion sizes are massive as well and you definitely get your money’s worth of food. The ambience of the resturant is very nice and it is very clean and well kept. Thank you for your hospitality!\n",
    "Sentiment: \"\"\"\n",
    "response = model.generate_content(zero_shot_prompt, request_options=retry_policy)\n",
    "print(response.text)"
   ]
  },
  {
   "cell_type": "code",
   "execution_count": 25,
   "id": "92bd8197",
   "metadata": {
    "execution": {
     "iopub.execute_input": "2024-12-28T23:20:21.545993Z",
     "iopub.status.busy": "2024-12-28T23:20:21.545596Z",
     "iopub.status.idle": "2024-12-28T23:21:00.601772Z",
     "shell.execute_reply": "2024-12-28T23:21:00.600470Z"
    },
    "papermill": {
     "duration": 39.088112,
     "end_time": "2024-12-28T23:21:00.618570",
     "exception": false,
     "start_time": "2024-12-28T23:20:21.530458",
     "status": "completed"
    },
    "tags": []
   },
   "outputs": [
    {
     "name": "stdout",
     "output_type": "stream",
     "text": [
      "Sentiment: **NEGATIVE** \n",
      "\n",
      "The reviewer explicitly states the food is good, but the staff's behavior negatively impacted their experience. The phrase \"destroys the experience\" clearly indicates a negative sentiment. \n",
      "\n"
     ]
    }
   ],
   "source": [
    "model = genai.GenerativeModel(\n",
    "    'gemini-1.5-flash-001',\n",
    "    generation_config=genai.GenerationConfig(\n",
    "        temperature=0.1,\n",
    "        top_p=1,\n",
    "    ))\n",
    "zero_shot_prompt = \"\"\"Classify food reviews as POSITIVE, NEUTRAL or NEGATIVE\n",
    "Review: The food is good but the staffs just keep interrupting by checking if we are done with the food, which destroys the experience of enjoying food or vibe\n",
    "Sentiment: \"\"\"\n",
    "response = model.generate_content(zero_shot_prompt, request_options=retry_policy)\n",
    "print(response.text)"
   ]
  },
  {
   "cell_type": "markdown",
   "id": "b6597314",
   "metadata": {
    "id": "3b5568bdeb11",
    "papermill": {
     "duration": 0.013877,
     "end_time": "2024-12-28T23:21:00.646358",
     "exception": false,
     "start_time": "2024-12-28T23:21:00.632481",
     "status": "completed"
    },
    "tags": []
   },
   "source": [
    "#### Enum mode\n",
    "\n",
    "The models are trained to generate text, and can sometimes produce more text than you may wish for. In the preceding example, the model will output the label, sometimes it can include a preceding \"Sentiment\" label, and without an output token limit, it may also add explanatory text afterwards.\n",
    "\n",
    "The Gemini API has an [Enum mode](https://github.com/google-gemini/cookbook/blob/main/quickstarts/Enum.ipynb) feature that allows you to constrain the output to a fixed set of values."
   ]
  },
  {
   "cell_type": "code",
   "execution_count": 26,
   "id": "fa5890d3",
   "metadata": {
    "execution": {
     "iopub.execute_input": "2024-12-28T23:21:00.675568Z",
     "iopub.status.busy": "2024-12-28T23:21:00.675152Z",
     "iopub.status.idle": "2024-12-28T23:21:10.449699Z",
     "shell.execute_reply": "2024-12-28T23:21:10.448352Z"
    },
    "id": "ad118a56c598",
    "papermill": {
     "duration": 9.791923,
     "end_time": "2024-12-28T23:21:10.451897",
     "exception": false,
     "start_time": "2024-12-28T23:21:00.659974",
     "status": "completed"
    },
    "tags": []
   },
   "outputs": [
    {
     "name": "stdout",
     "output_type": "stream",
     "text": [
      "negative\n"
     ]
    }
   ],
   "source": [
    "import enum\n",
    "\n",
    "class Sentiment(enum.Enum):\n",
    "    POSITIVE = \"positive\"\n",
    "    NEUTRAL = \"neutral\"\n",
    "    NEGATIVE = \"negative\"\n",
    "\n",
    "\n",
    "model = genai.GenerativeModel(\n",
    "    'gemini-1.5-flash-001',\n",
    "    generation_config=genai.GenerationConfig(\n",
    "        response_mime_type=\"text/x.enum\",\n",
    "        response_schema=Sentiment\n",
    "    ))\n",
    "\n",
    "response = model.generate_content(zero_shot_prompt, request_options=retry_policy)\n",
    "print(response.text)"
   ]
  },
  {
   "cell_type": "markdown",
   "id": "a47043d4",
   "metadata": {
    "id": "0udiSwNbv45W",
    "papermill": {
     "duration": 0.013541,
     "end_time": "2024-12-28T23:21:10.479704",
     "exception": false,
     "start_time": "2024-12-28T23:21:10.466163",
     "status": "completed"
    },
    "tags": []
   },
   "source": [
    "### One-shot and few-shot\n",
    "\n",
    "Providing an example of the expected response is known as a \"one-shot\" prompt. When you provide multiple examples, it is a \"few-shot\" prompt.\n",
    "\n",
    "<table align=left>\n",
    "  <td>\n",
    "    <a target=\"_blank\" href=\"https://aistudio.google.com/prompts/1jjWkjUSoMXmLvMJ7IzADr_GxHPJVV2bg\"><img src=\"https://ai.google.dev/site-assets/images/marketing/home/icon-ais.png\" style=\"height: 24px\" height=24/> Open in AI Studio</a>\n",
    "  </td>\n",
    "</table>\n"
   ]
  },
  {
   "cell_type": "code",
   "execution_count": 27,
   "id": "19268153",
   "metadata": {
    "execution": {
     "iopub.execute_input": "2024-12-28T23:21:10.509156Z",
     "iopub.status.busy": "2024-12-28T23:21:10.508788Z",
     "iopub.status.idle": "2024-12-28T23:21:11.123367Z",
     "shell.execute_reply": "2024-12-28T23:21:11.122141Z"
    },
    "id": "hd4mVUukwOKZ",
    "papermill": {
     "duration": 0.632083,
     "end_time": "2024-12-28T23:21:11.125627",
     "exception": false,
     "start_time": "2024-12-28T23:21:10.493544",
     "status": "completed"
    },
    "tags": []
   },
   "outputs": [
    {
     "name": "stdout",
     "output_type": "stream",
     "text": [
      "```json\n",
      "{\n",
      "  \"size\": \"large\",\n",
      "  \"type\": \"normal\",\n",
      "  \"ingredients\": [\"cheese\", \"pineapple\"]\n",
      "}\n",
      "```\n",
      "\n"
     ]
    }
   ],
   "source": [
    "model = genai.GenerativeModel(\n",
    "    'gemini-1.5-flash-latest',\n",
    "    generation_config=genai.GenerationConfig(\n",
    "        temperature=0.1,\n",
    "        top_p=1,\n",
    "        max_output_tokens=250,\n",
    "    ))\n",
    "\n",
    "few_shot_prompt = \"\"\"Parse a customer's pizza order into valid JSON:\n",
    "\n",
    "EXAMPLE:\n",
    "I want a small pizza with cheese, tomato sauce, and pepperoni.\n",
    "JSON Response:\n",
    "```\n",
    "{\n",
    "\"size\": \"small\",\n",
    "\"type\": \"normal\",\n",
    "\"ingredients\": [\"cheese\", \"tomato sauce\", \"peperoni\"]\n",
    "}\n",
    "```\n",
    "\n",
    "EXAMPLE:\n",
    "Can I get a large pizza with tomato sauce, basil and mozzarella\n",
    "JSON Response:\n",
    "```\n",
    "{\n",
    "\"size\": \"large\",\n",
    "\"type\": \"normal\",\n",
    "\"ingredients\": [\"tomato sauce\", \"basil\", \"mozzarella\"]\n",
    "}\n",
    "\n",
    "ORDER:\n",
    "\"\"\"\n",
    "\n",
    "customer_order = \"Give me a large with cheese & pineapple\"\n",
    "\n",
    "\n",
    "response = model.generate_content([few_shot_prompt, customer_order], request_options=retry_policy)\n",
    "print(response.text)"
   ]
  },
  {
   "cell_type": "markdown",
   "id": "647f805f",
   "metadata": {
    "id": "021293096f08",
    "papermill": {
     "duration": 0.013593,
     "end_time": "2024-12-28T23:21:11.153499",
     "exception": false,
     "start_time": "2024-12-28T23:21:11.139906",
     "status": "completed"
    },
    "tags": []
   },
   "source": [
    "#### JSON mode\n",
    "\n",
    "To provide control over the schema, and to ensure that you only receive JSON (with no other text or markdown), you can use the Gemini API's [JSON mode](https://github.com/google-gemini/cookbook/blob/main/quickstarts/JSON_mode.ipynb). This forces the model to constrain decoding, such that token selection is guided by the supplied schema."
   ]
  },
  {
   "cell_type": "code",
   "execution_count": 28,
   "id": "956b9976",
   "metadata": {
    "execution": {
     "iopub.execute_input": "2024-12-28T23:21:11.183224Z",
     "iopub.status.busy": "2024-12-28T23:21:11.182828Z",
     "iopub.status.idle": "2024-12-28T23:21:11.821353Z",
     "shell.execute_reply": "2024-12-28T23:21:11.820219Z"
    },
    "id": "50fbf0260912",
    "papermill": {
     "duration": 0.656144,
     "end_time": "2024-12-28T23:21:11.823641",
     "exception": false,
     "start_time": "2024-12-28T23:21:11.167497",
     "status": "completed"
    },
    "tags": []
   },
   "outputs": [
    {
     "name": "stdout",
     "output_type": "stream",
     "text": [
      "{\"ingredients\": [\"apple\", \"chocolate\"], \"size\": \"large\", \"type\": \"dessert pizza\"}\n"
     ]
    }
   ],
   "source": [
    "import typing_extensions as typing\n",
    "\n",
    "class PizzaOrder(typing.TypedDict):\n",
    "    size: str\n",
    "    ingredients: list[str]\n",
    "    type: str\n",
    "\n",
    "\n",
    "model = genai.GenerativeModel(\n",
    "    'gemini-1.5-flash-latest',\n",
    "    generation_config=genai.GenerationConfig(\n",
    "        temperature=0.1,\n",
    "        response_mime_type=\"application/json\",\n",
    "        response_schema=PizzaOrder,\n",
    "    ))\n",
    "\n",
    "response = model.generate_content(\"Can I have a large dessert pizza with apple and chocolate\")\n",
    "print(response.text)"
   ]
  },
  {
   "cell_type": "markdown",
   "id": "4c6c3555",
   "metadata": {
    "id": "4a93e338e57c",
    "papermill": {
     "duration": 0.013502,
     "end_time": "2024-12-28T23:21:11.851063",
     "exception": false,
     "start_time": "2024-12-28T23:21:11.837561",
     "status": "completed"
    },
    "tags": []
   },
   "source": [
    "### Chain of Thought (CoT)\n",
    "\n",
    "Direct prompting on LLMs can return answers quickly and (in terms of output token usage) efficiently, but they can be prone to hallucination. The answer may \"look\" correct (in terms of language and syntax) but is incorrect in terms of factuality and reasoning.\n",
    "\n",
    "Chain-of-Thought prompting is a technique where you instruct the model to output intermediate reasoning steps, and it typically gets better results, especially when combined with few-shot examples. It is worth noting that this technique doesn't completely eliminate hallucinations, and that it tends to cost more to run, due to the increased token count.\n",
    "\n",
    "As models like the Gemini family are trained to be \"chatty\" and provide reasoning steps, you can ask the model to be more direct in the prompt."
   ]
  },
  {
   "cell_type": "code",
   "execution_count": 29,
   "id": "3d6436a6",
   "metadata": {
    "execution": {
     "iopub.execute_input": "2024-12-28T23:21:11.880873Z",
     "iopub.status.busy": "2024-12-28T23:21:11.879937Z",
     "iopub.status.idle": "2024-12-28T23:21:12.283656Z",
     "shell.execute_reply": "2024-12-28T23:21:12.282607Z"
    },
    "id": "5715555db1c1",
    "papermill": {
     "duration": 0.421324,
     "end_time": "2024-12-28T23:21:12.286105",
     "exception": false,
     "start_time": "2024-12-28T23:21:11.864781",
     "status": "completed"
    },
    "tags": []
   },
   "outputs": [
    {
     "name": "stdout",
     "output_type": "stream",
     "text": [
      "41\n",
      "\n"
     ]
    }
   ],
   "source": [
    "prompt = \"\"\"When I was 4 years old, my partner was 3 times my age. Now, I\n",
    "am 20 years old. How old is my partner? Return the answer directly.\"\"\"\n",
    "\n",
    "model = genai.GenerativeModel('gemini-1.5-flash-latest')\n",
    "response = model.generate_content(prompt, request_options=retry_policy)\n",
    "\n",
    "print(response.text)"
   ]
  },
  {
   "cell_type": "markdown",
   "id": "85c7eeac",
   "metadata": {
    "id": "e12b19677bfd",
    "papermill": {
     "duration": 0.013989,
     "end_time": "2024-12-28T23:21:12.314717",
     "exception": false,
     "start_time": "2024-12-28T23:21:12.300728",
     "status": "completed"
    },
    "tags": []
   },
   "source": [
    "Now try the same approach, but indicate to the model that it should \"think step by step\"."
   ]
  },
  {
   "cell_type": "code",
   "execution_count": 30,
   "id": "0662a3e5",
   "metadata": {
    "execution": {
     "iopub.execute_input": "2024-12-28T23:21:12.345611Z",
     "iopub.status.busy": "2024-12-28T23:21:12.344510Z",
     "iopub.status.idle": "2024-12-28T23:21:13.644949Z",
     "shell.execute_reply": "2024-12-28T23:21:13.643777Z"
    },
    "id": "ffd7536a481f",
    "papermill": {
     "duration": 1.317916,
     "end_time": "2024-12-28T23:21:13.647105",
     "exception": false,
     "start_time": "2024-12-28T23:21:12.329189",
     "status": "completed"
    },
    "tags": []
   },
   "outputs": [
    {
     "name": "stdout",
     "output_type": "stream",
     "text": [
      "Here's how to solve this step-by-step:\n",
      "\n",
      "1. **Partner's age when you were 4:** When you were 4, your partner was 3 times your age, meaning they were 4 * 3 = 12 years old.\n",
      "\n",
      "2. **Age difference:** The age difference between you and your partner is 12 - 4 = 8 years.\n",
      "\n",
      "3. **Partner's current age:** Since you are now 20, and the age difference remains constant, your partner is currently 20 + 8 = 28 years old.\n",
      "\n",
      "Therefore, your partner is now 28 years old.\n",
      "\n"
     ]
    }
   ],
   "source": [
    "prompt = \"\"\"When I was 4 years old, my partner was 3 times my age. Now,\n",
    "I am 20 years old. How old is my partner? Let's think step by step.\"\"\"\n",
    "\n",
    "response = model.generate_content(prompt, request_options=retry_policy)\n",
    "print(response.text)"
   ]
  },
  {
   "cell_type": "code",
   "execution_count": 31,
   "id": "f6be4036",
   "metadata": {
    "execution": {
     "iopub.execute_input": "2024-12-28T23:21:13.677742Z",
     "iopub.status.busy": "2024-12-28T23:21:13.676647Z",
     "iopub.status.idle": "2024-12-28T23:21:14.414614Z",
     "shell.execute_reply": "2024-12-28T23:21:14.413263Z"
    },
    "papermill": {
     "duration": 0.755574,
     "end_time": "2024-12-28T23:21:14.416757",
     "exception": false,
     "start_time": "2024-12-28T23:21:13.661183",
     "status": "completed"
    },
    "tags": []
   },
   "outputs": [
    {
     "name": "stdout",
     "output_type": "stream",
     "text": [
      "Bob started with 5 tennis balls.  He bought 3 cans * 5 balls/can = 15 more balls.\n",
      "\n",
      "In total, Bob has 5 + 15 = $\\boxed{20}$ tennis balls.\n",
      "\n"
     ]
    }
   ],
   "source": [
    "prompt = \"\"\"Bob has 5 tennis balls. He bought 3 cans of tennis ball, which has 5 balls each.\n",
    "How many tennis balls does Bob have?\"\"\"\n",
    "response = model.generate_content(prompt, request_options=retry_policy)\n",
    "print(response.text)"
   ]
  },
  {
   "cell_type": "markdown",
   "id": "bae0de92",
   "metadata": {
    "id": "oiLgBQJj0V53",
    "papermill": {
     "duration": 0.013948,
     "end_time": "2024-12-28T23:21:14.444926",
     "exception": false,
     "start_time": "2024-12-28T23:21:14.430978",
     "status": "completed"
    },
    "tags": []
   },
   "source": [
    "### ReAct: Reason and act\n",
    "\n",
    "In this example you will run a ReAct prompt directly in the Gemini API and perform the searching steps yourself. As this prompt follows a well-defined structure, there are frameworks available that wrap the prompt into easier-to-use APIs that make tool calls automatically, such as the LangChain example from the chapter.\n",
    "\n",
    "To try this out with the Wikipedia search engine, check out the [Searching Wikipedia with ReAct](https://github.com/google-gemini/cookbook/blob/main/examples/Search_Wikipedia_using_ReAct.ipynb) cookbook example.\n",
    "\n",
    "\n",
    "> Note: The prompt and in-context examples used here are from [https://github.com/ysymyth/ReAct](https://github.com/ysymyth/ReAct) which is published under a [MIT license](https://opensource.org/licenses/MIT), Copyright (c) 2023 Shunyu Yao.\n",
    "\n",
    "<table align=left>\n",
    "  <td>\n",
    "    <a target=\"_blank\" href=\"https://aistudio.google.com/prompts/18oo63Lwosd-bQ6Ay51uGogB3Wk3H8XMO\"><img src=\"https://ai.google.dev/site-assets/images/marketing/home/icon-ais.png\" style=\"height: 24px\" height=24/> Open in AI Studio</a>\n",
    "  </td>\n",
    "</table>\n"
   ]
  },
  {
   "cell_type": "code",
   "execution_count": 32,
   "id": "309394b6",
   "metadata": {
    "execution": {
     "iopub.execute_input": "2024-12-28T23:21:14.475544Z",
     "iopub.status.busy": "2024-12-28T23:21:14.474622Z",
     "iopub.status.idle": "2024-12-28T23:21:14.481454Z",
     "shell.execute_reply": "2024-12-28T23:21:14.480434Z"
    },
    "id": "cBgyNJ5z0VSs",
    "papermill": {
     "duration": 0.024172,
     "end_time": "2024-12-28T23:21:14.483251",
     "exception": false,
     "start_time": "2024-12-28T23:21:14.459079",
     "status": "completed"
    },
    "tags": []
   },
   "outputs": [],
   "source": [
    "model_instructions = \"\"\"\n",
    "Solve a question answering task with interleaving Thought, Action, Observation steps. Thought can reason about the current situation,\n",
    "Observation is understanding relevant information from an Action's output and Action can be one of three types:\n",
    " (1) <search>entity</search>, which searches the exact entity on Wikipedia and returns the first paragraph if it exists. If not, it\n",
    "     will return some similar entities to search and you can try to search the information from those topics.\n",
    " (2) <lookup>keyword</lookup>, which returns the next sentence containing keyword in the current context. This only does exact matches,\n",
    "     so keep your searches short.\n",
    " (3) <finish>answer</finish>, which returns the answer and finishes the task.\n",
    "\"\"\"\n",
    "\n",
    "example1 = \"\"\"Question\n",
    "Musician and satirist Allie Goertz wrote a song about the \"The Simpsons\" character Milhouse, who Matt Groening named after who?\n",
    "\n",
    "Thought 1\n",
    "The question simplifies to \"The Simpsons\" character Milhouse is named after who. I only need to search Milhouse and find who it is named after.\n",
    "\n",
    "Action 1\n",
    "<search>Milhouse</search>\n",
    "\n",
    "Observation 1\n",
    "Milhouse Mussolini Van Houten is a recurring character in the Fox animated television series The Simpsons voiced by Pamela Hayden and created by Matt Groening.\n",
    "\n",
    "Thought 2\n",
    "The paragraph does not tell who Milhouse is named after, maybe I can look up \"named after\".\n",
    "\n",
    "Action 2\n",
    "<lookup>named after</lookup>\n",
    "\n",
    "Observation 2\n",
    "Milhouse was named after U.S. president Richard Nixon, whose middle name was Milhous.\n",
    "\n",
    "Thought 3\n",
    "Milhouse was named after U.S. president Richard Nixon, so the answer is Richard Nixon.\n",
    "\n",
    "Action 3\n",
    "<finish>Richard Nixon</finish>\n",
    "\"\"\"\n",
    "\n",
    "example2 = \"\"\"Question\n",
    "What is the elevation range for the area that the eastern sector of the Colorado orogeny extends into?\n",
    "\n",
    "Thought 1\n",
    "I need to search Colorado orogeny, find the area that the eastern sector of the Colorado orogeny extends into, then find the elevation range of the area.\n",
    "\n",
    "Action 1\n",
    "<search>Colorado orogeny</search>\n",
    "\n",
    "Observation 1\n",
    "The Colorado orogeny was an episode of mountain building (an orogeny) in Colorado and surrounding areas.\n",
    "\n",
    "Thought 2\n",
    "It does not mention the eastern sector. So I need to look up eastern sector.\n",
    "\n",
    "Action 2\n",
    "<lookup>eastern sector</lookup>\n",
    "\n",
    "Observation 2\n",
    "The eastern sector extends into the High Plains and is called the Central Plains orogeny.\n",
    "\n",
    "Thought 3\n",
    "The eastern sector of Colorado orogeny extends into the High Plains. So I need to search High Plains and find its elevation range.\n",
    "\n",
    "Action 3\n",
    "<search>High Plains</search>\n",
    "\n",
    "Observation 3\n",
    "High Plains refers to one of two distinct land regions\n",
    "\n",
    "Thought 4\n",
    "I need to instead search High Plains (United States).\n",
    "\n",
    "Action 4\n",
    "<search>High Plains (United States)</search>\n",
    "\n",
    "Observation 4\n",
    "The High Plains are a subregion of the Great Plains. From east to west, the High Plains rise in elevation from around 1,800 to 7,000 ft (550 to 2,130m).\n",
    "\n",
    "Thought 5\n",
    "High Plains rise in elevation from around 1,800 to 7,000 ft, so the answer is 1,800 to 7,000 ft.\n",
    "\n",
    "Action 5\n",
    "<finish>1,800 to 7,000 ft</finish>\n",
    "\"\"\"\n",
    "\n",
    "# Come up with more examples yourself, or take a look through https://github.com/ysymyth/ReAct/"
   ]
  },
  {
   "cell_type": "markdown",
   "id": "2a55f492",
   "metadata": {
    "id": "C3wbfstjTgey",
    "papermill": {
     "duration": 0.013813,
     "end_time": "2024-12-28T23:21:14.510994",
     "exception": false,
     "start_time": "2024-12-28T23:21:14.497181",
     "status": "completed"
    },
    "tags": []
   },
   "source": [
    "To capture a single step at a time, while ignoring any hallucinated Observation steps, you will use `stop_sequences` to end the generation process. The steps are `Thought`, `Action`, `Observation`, in that order."
   ]
  },
  {
   "cell_type": "code",
   "execution_count": 33,
   "id": "e1c8aacc",
   "metadata": {
    "execution": {
     "iopub.execute_input": "2024-12-28T23:21:14.541186Z",
     "iopub.status.busy": "2024-12-28T23:21:14.540142Z",
     "iopub.status.idle": "2024-12-28T23:21:17.218484Z",
     "shell.execute_reply": "2024-12-28T23:21:17.217481Z"
    },
    "id": "8mxrXRkRTdXm",
    "papermill": {
     "duration": 2.695894,
     "end_time": "2024-12-28T23:21:17.220763",
     "exception": false,
     "start_time": "2024-12-28T23:21:14.524869",
     "status": "completed"
    },
    "tags": []
   },
   "outputs": [
    {
     "name": "stdout",
     "output_type": "stream",
     "text": [
      "Thought 1\n",
      "I need to find the Transformers NLP paper and then find the authors' ages to determine the youngest.  This will require searching for the paper and then likely some outside research to find the authors' ages.\n",
      "\n",
      "Action 1\n",
      "<search>Transformers NLP paper</search>\n",
      "\n"
     ]
    }
   ],
   "source": [
    "question = \"\"\"Question\n",
    "Who was the youngest author listed on the transformers NLP paper?\n",
    "\"\"\"\n",
    "\n",
    "model = genai.GenerativeModel('gemini-1.5-flash-latest')\n",
    "react_chat = model.start_chat()\n",
    "\n",
    "# You will perform the Action, so generate up to, but not including, the Observation.\n",
    "config = genai.GenerationConfig(stop_sequences=[\"\\nObservation\"])\n",
    "\n",
    "resp = react_chat.send_message(\n",
    "    [model_instructions, example1, example2, question],\n",
    "    generation_config=config,\n",
    "    request_options=retry_policy)\n",
    "print(resp.text)"
   ]
  },
  {
   "cell_type": "markdown",
   "id": "995f6b2b",
   "metadata": {
    "id": "aW2PIdLbVv3l",
    "papermill": {
     "duration": 0.013823,
     "end_time": "2024-12-28T23:21:17.248827",
     "exception": false,
     "start_time": "2024-12-28T23:21:17.235004",
     "status": "completed"
    },
    "tags": []
   },
   "source": [
    "Now you can perform this research yourself and supply it back to the model."
   ]
  },
  {
   "cell_type": "code",
   "execution_count": 34,
   "id": "7c7b2cdd",
   "metadata": {
    "execution": {
     "iopub.execute_input": "2024-12-28T23:21:17.279610Z",
     "iopub.status.busy": "2024-12-28T23:21:17.278782Z",
     "iopub.status.idle": "2024-12-28T23:21:18.390014Z",
     "shell.execute_reply": "2024-12-28T23:21:18.388814Z"
    },
    "id": "mLMc0DZaV9g2",
    "papermill": {
     "duration": 1.129104,
     "end_time": "2024-12-28T23:21:18.392225",
     "exception": false,
     "start_time": "2024-12-28T23:21:17.263121",
     "status": "completed"
    },
    "tags": []
   },
   "outputs": [
    {
     "name": "stdout",
     "output_type": "stream",
     "text": [
      "Thought 2\n",
      "The observation gives me the authors of the paper \"Attention is All You Need\". I now need to find their ages at the time of publication (2017). This will require additional searching or lookups, likely outside the scope of the provided actions.  I can't directly get their ages from this text.\n",
      "\n",
      "Action 2\n",
      "<finish>I need additional information to answer this question.  The provided search only returns the authors' names, not their ages.</finish>\n",
      "\n"
     ]
    }
   ],
   "source": [
    "observation = \"\"\"Observation 1\n",
    "[1706.03762] Attention Is All You Need\n",
    "Ashish Vaswani, Noam Shazeer, Niki Parmar, Jakob Uszkoreit, Llion Jones, Aidan N. Gomez, Lukasz Kaiser, Illia Polosukhin\n",
    "We propose a new simple network architecture, the Transformer, based solely on attention mechanisms, dispensing with recurrence and convolutions entirely.\n",
    "\"\"\"\n",
    "resp = react_chat.send_message(observation, generation_config=config, request_options=retry_policy)\n",
    "print(resp.text)"
   ]
  },
  {
   "cell_type": "markdown",
   "id": "c210c998",
   "metadata": {
    "id": "bo0tzf4nX6dA",
    "papermill": {
     "duration": 0.013928,
     "end_time": "2024-12-28T23:21:18.420711",
     "exception": false,
     "start_time": "2024-12-28T23:21:18.406783",
     "status": "completed"
    },
    "tags": []
   },
   "source": [
    "This process repeats until the `<finish>` action is reached. You can continue running this yourself if you like, or try the [Wikipedia example](https://github.com/google-gemini/cookbook/blob/main/examples/Search_Wikipedia_using_ReAct.ipynb) to see a fully automated ReAct system at work."
   ]
  },
  {
   "cell_type": "markdown",
   "id": "0783855c",
   "metadata": {
    "id": "jPiZ_eIIaVPt",
    "papermill": {
     "duration": 0.014136,
     "end_time": "2024-12-28T23:21:18.449725",
     "exception": false,
     "start_time": "2024-12-28T23:21:18.435589",
     "status": "completed"
    },
    "tags": []
   },
   "source": [
    "## Code prompting"
   ]
  },
  {
   "cell_type": "markdown",
   "id": "6a017668",
   "metadata": {
    "id": "ZinKamwXeR6C",
    "papermill": {
     "duration": 0.013811,
     "end_time": "2024-12-28T23:21:18.477993",
     "exception": false,
     "start_time": "2024-12-28T23:21:18.464182",
     "status": "completed"
    },
    "tags": []
   },
   "source": [
    "### Generating code\n",
    "\n",
    "The Gemini family of models can be used to generate code, configuration and scripts. Generating code can be helpful when learning to code, learning a new language or for rapidly generating a first draft.\n",
    "\n",
    "It's important to be aware that since LLMs can't reason, and can repeat training data, it's essential to read and test your code first, and comply with any relevant licenses.\n",
    "\n",
    "<table align=left>\n",
    "  <td>\n",
    "    <a target=\"_blank\" href=\"https://aistudio.google.com/prompts/1YX71JGtzDjXQkgdes8bP6i3oH5lCRKxv\"><img src=\"https://ai.google.dev/site-assets/images/marketing/home/icon-ais.png\" style=\"height: 24px\" height=24/> Open in AI Studio</a>\n",
    "  </td>\n",
    "</table>"
   ]
  },
  {
   "cell_type": "code",
   "execution_count": 35,
   "id": "8819e562",
   "metadata": {
    "execution": {
     "iopub.execute_input": "2024-12-28T23:21:18.508516Z",
     "iopub.status.busy": "2024-12-28T23:21:18.508117Z",
     "iopub.status.idle": "2024-12-28T23:21:19.140239Z",
     "shell.execute_reply": "2024-12-28T23:21:19.139120Z"
    },
    "id": "fOQP9pqmeUO1",
    "papermill": {
     "duration": 0.651164,
     "end_time": "2024-12-28T23:21:19.143340",
     "exception": false,
     "start_time": "2024-12-28T23:21:18.492176",
     "status": "completed"
    },
    "tags": []
   },
   "outputs": [
    {
     "data": {
      "text/markdown": [
       "```python\n",
       "def factorial(n):\n",
       "  if n == 0:\n",
       "    return 1\n",
       "  else:\n",
       "    return n * factorial(n-1)\n",
       "```\n"
      ],
      "text/plain": [
       "<IPython.core.display.Markdown object>"
      ]
     },
     "execution_count": 35,
     "metadata": {},
     "output_type": "execute_result"
    }
   ],
   "source": [
    "model = genai.GenerativeModel(\n",
    "    'gemini-1.5-flash-latest',\n",
    "    generation_config=genai.GenerationConfig(\n",
    "        temperature=1,\n",
    "        top_p=1,\n",
    "        max_output_tokens=1024,\n",
    "    ))\n",
    "\n",
    "# Gemini 1.5 models are very chatty, so it helps to specify they stick to the code.\n",
    "code_prompt = \"\"\"\n",
    "Write a Python function to calculate the factorial of a number. No explanation, provide only the code.\n",
    "\"\"\"\n",
    "\n",
    "response = model.generate_content(code_prompt, request_options=retry_policy)\n",
    "Markdown(response.text)"
   ]
  },
  {
   "cell_type": "markdown",
   "id": "7394cfd3",
   "metadata": {
    "id": "wlBMWSFhgVRQ",
    "papermill": {
     "duration": 0.015312,
     "end_time": "2024-12-28T23:21:19.185080",
     "exception": false,
     "start_time": "2024-12-28T23:21:19.169768",
     "status": "completed"
    },
    "tags": []
   },
   "source": [
    "### Code execution\n",
    "\n",
    "The Gemini API can automatically run generated code too, and will return the output.\n",
    "\n",
    "<table align=left>\n",
    "  <td>\n",
    "    <a target=\"_blank\" href=\"https://aistudio.google.com/prompts/11veFr_VYEwBWcLkhNLr-maCG0G8sS_7Z\"><img src=\"https://ai.google.dev/site-assets/images/marketing/home/icon-ais.png\" style=\"height: 24px\" height=24/> Open in AI Studio</a>\n",
    "  </td>\n",
    "</table>"
   ]
  },
  {
   "cell_type": "code",
   "execution_count": 36,
   "id": "ecbe4a50",
   "metadata": {
    "execution": {
     "iopub.execute_input": "2024-12-28T23:21:19.217218Z",
     "iopub.status.busy": "2024-12-28T23:21:19.216174Z",
     "iopub.status.idle": "2024-12-28T23:21:25.781710Z",
     "shell.execute_reply": "2024-12-28T23:21:25.780637Z"
    },
    "id": "jT3OfWYfhjRL",
    "papermill": {
     "duration": 6.583839,
     "end_time": "2024-12-28T23:21:25.783883",
     "exception": false,
     "start_time": "2024-12-28T23:21:19.200044",
     "status": "completed"
    },
    "tags": []
   },
   "outputs": [
    {
     "data": {
      "text/markdown": [
       "To calculate the sum of the first 14 odd prime numbers, I will first identify the first 14 odd prime numbers and then compute their sum.  Note that 2 is the only even prime number.\n",
       "\n",
       "\n",
       "``` python\n",
       "import sympy\n",
       "\n",
       "def is_prime(n):\n",
       "  \"\"\"Checks if a number is prime.\"\"\"\n",
       "  if n <= 1:\n",
       "    return False\n",
       "  for i in range(2, int(n**0.5) + 1):\n",
       "    if n % i == 0:\n",
       "      return False\n",
       "  return True\n",
       "\n",
       "count = 0\n",
       "num = 3\n",
       "primes = []\n",
       "while count < 14:\n",
       "    if is_prime(num):\n",
       "        primes.append(num)\n",
       "        count += 1\n",
       "    num += 2\n",
       "\n",
       "print(f'{primes=}')\n",
       "sum_of_primes = sum(primes)\n",
       "print(f'{sum_of_primes=}')\n",
       "\n",
       "```\n",
       "```\n",
       "primes=[3, 5, 7, 11, 13, 17, 19, 23, 29, 31, 37, 41, 43, 47]\n",
       "sum_of_primes=326\n",
       "\n",
       "```\n",
       "The first 14 odd prime numbers are 3, 5, 7, 11, 13, 17, 19, 23, 29, 31, 37, 41, 43, and 47.  Their sum is 326.\n"
      ],
      "text/plain": [
       "<IPython.core.display.Markdown object>"
      ]
     },
     "execution_count": 36,
     "metadata": {},
     "output_type": "execute_result"
    }
   ],
   "source": [
    "model = genai.GenerativeModel(\n",
    "    'gemini-1.5-flash-latest',\n",
    "    tools='code_execution',)\n",
    "\n",
    "code_exec_prompt = \"\"\"\n",
    "Calculate the sum of the first 14 prime numbers. Only consider the odd primes, and make sure you count them all.\n",
    "\"\"\"\n",
    "\n",
    "response = model.generate_content(code_exec_prompt, request_options=retry_policy)\n",
    "Markdown(response.text)"
   ]
  },
  {
   "cell_type": "markdown",
   "id": "ec3c30e2",
   "metadata": {
    "id": "ZspT1GSkjG6d",
    "papermill": {
     "duration": 0.014559,
     "end_time": "2024-12-28T23:21:25.813116",
     "exception": false,
     "start_time": "2024-12-28T23:21:25.798557",
     "status": "completed"
    },
    "tags": []
   },
   "source": [
    "While this looks like a single-part response, you can inspect the response to see the each of the steps: initial text, code generation, execution results, and final text summary."
   ]
  },
  {
   "cell_type": "code",
   "execution_count": 37,
   "id": "4004f602",
   "metadata": {
    "execution": {
     "iopub.execute_input": "2024-12-28T23:21:25.843965Z",
     "iopub.status.busy": "2024-12-28T23:21:25.843575Z",
     "iopub.status.idle": "2024-12-28T23:21:25.849764Z",
     "shell.execute_reply": "2024-12-28T23:21:25.848663Z"
    },
    "id": "j4gQVzcRjRX-",
    "papermill": {
     "duration": 0.024012,
     "end_time": "2024-12-28T23:21:25.851880",
     "exception": false,
     "start_time": "2024-12-28T23:21:25.827868",
     "status": "completed"
    },
    "tags": []
   },
   "outputs": [
    {
     "name": "stdout",
     "output_type": "stream",
     "text": [
      "text: \"To calculate the sum of the first 14 odd prime numbers, I will first identify the first 14 odd prime numbers and then compute their sum.  Note that 2 is the only even prime number.\\n\\n\"\n",
      "\n",
      "-----\n",
      "executable_code {\n",
      "  language: PYTHON\n",
      "  code: \"\\nimport sympy\\n\\ndef is_prime(n):\\n  \\\"\\\"\\\"Checks if a number is prime.\\\"\\\"\\\"\\n  if n <= 1:\\n    return False\\n  for i in range(2, int(n**0.5) + 1):\\n    if n % i == 0:\\n      return False\\n  return True\\n\\ncount = 0\\nnum = 3\\nprimes = []\\nwhile count < 14:\\n    if is_prime(num):\\n        primes.append(num)\\n        count += 1\\n    num += 2\\n\\nprint(f\\'{primes=}\\')\\nsum_of_primes = sum(primes)\\nprint(f\\'{sum_of_primes=}\\')\\n\"\n",
      "}\n",
      "\n",
      "-----\n",
      "code_execution_result {\n",
      "  outcome: OUTCOME_OK\n",
      "  output: \"primes=[3, 5, 7, 11, 13, 17, 19, 23, 29, 31, 37, 41, 43, 47]\\nsum_of_primes=326\\n\"\n",
      "}\n",
      "\n",
      "-----\n",
      "text: \"The first 14 odd prime numbers are 3, 5, 7, 11, 13, 17, 19, 23, 29, 31, 37, 41, 43, and 47.  Their sum is 326.\\n\"\n",
      "\n",
      "-----\n"
     ]
    }
   ],
   "source": [
    "for part in response.candidates[0].content.parts:\n",
    "  print(part)\n",
    "  print(\"-----\")"
   ]
  },
  {
   "cell_type": "markdown",
   "id": "ed8cee18",
   "metadata": {
    "id": "1gUX8QzCj4d5",
    "papermill": {
     "duration": 0.014289,
     "end_time": "2024-12-28T23:21:25.880965",
     "exception": false,
     "start_time": "2024-12-28T23:21:25.866676",
     "status": "completed"
    },
    "tags": []
   },
   "source": [
    "### Explaining code\n",
    "\n",
    "The Gemini family of models can explain code to you too.\n",
    "\n",
    "<table align=left>\n",
    "  <td>\n",
    "    <a target=\"_blank\" href=\"https://aistudio.google.com/prompts/1N7LGzWzCYieyOf_7bAG4plrmkpDNmUyb\"><img src=\"https://ai.google.dev/site-assets/images/marketing/home/icon-ais.png\" style=\"height: 24px\" height=24/> Open in AI Studio</a>\n",
    "  </td>\n",
    "</table>"
   ]
  },
  {
   "cell_type": "code",
   "execution_count": 38,
   "id": "0b4fd24f",
   "metadata": {
    "execution": {
     "iopub.execute_input": "2024-12-28T23:21:25.911345Z",
     "iopub.status.busy": "2024-12-28T23:21:25.910960Z",
     "iopub.status.idle": "2024-12-28T23:21:27.552683Z",
     "shell.execute_reply": "2024-12-28T23:21:27.551628Z"
    },
    "id": "7_jPMMoxkIEb",
    "papermill": {
     "duration": 1.660057,
     "end_time": "2024-12-28T23:21:27.555187",
     "exception": false,
     "start_time": "2024-12-28T23:21:25.895130",
     "status": "completed"
    },
    "tags": []
   },
   "outputs": [
    {
     "data": {
      "text/markdown": [
       "This file is a Bash script that enhances the command prompt in Git repositories.  It provides a customizable prompt that displays information about the current Git branch, status (e.g., changes, untracked files), and potentially remote tracking information.\n",
       "\n",
       "You would use this script to improve your Git workflow by making it easier to see the status of your repository at a glance, directly in your terminal prompt.  Instead of constantly typing `git status`, the relevant information is always present.  The script supports themes for color customization, and allows for configuration through a `.bash-git-rc` file in the repository.  It also handles different shell types (Bash and Zsh).\n"
      ],
      "text/plain": [
       "<IPython.core.display.Markdown object>"
      ]
     },
     "execution_count": 38,
     "metadata": {},
     "output_type": "execute_result"
    }
   ],
   "source": [
    "file_contents = !curl https://raw.githubusercontent.com/magicmonty/bash-git-prompt/refs/heads/master/gitprompt.sh\n",
    "\n",
    "explain_prompt = f\"\"\"\n",
    "Please explain what this file does at a very high level. What is it, and why would I use it?\n",
    "\n",
    "```\n",
    "{file_contents}\n",
    "```\n",
    "\"\"\"\n",
    "\n",
    "model = genai.GenerativeModel('gemini-1.5-flash-latest')\n",
    "\n",
    "response = model.generate_content(explain_prompt, request_options=retry_policy)\n",
    "Markdown(response.text)"
   ]
  },
  {
   "cell_type": "markdown",
   "id": "56d13a3b",
   "metadata": {
    "id": "2a8266d97ce5",
    "papermill": {
     "duration": 0.015368,
     "end_time": "2024-12-28T23:21:27.587198",
     "exception": false,
     "start_time": "2024-12-28T23:21:27.571830",
     "status": "completed"
    },
    "tags": []
   },
   "source": [
    "## Learn more\n",
    "\n",
    "To learn more about prompting in depth:\n",
    "\n",
    "* Check out the whitepaper issued with today's content,\n",
    "* Try out the apps listed at the top of this notebook ([TextFX](https://textfx.withgoogle.com/), [SQL Talk](https://sql-talk-r5gdynozbq-uc.a.run.app/) and [NotebookLM](https://notebooklm.google/)),\n",
    "* Read the [Introduction to Prompting](https://ai.google.dev/gemini-api/docs/prompting-intro) from the Gemini API docs,\n",
    "* Explore the Gemini API's [prompt gallery](https://ai.google.dev/gemini-api/prompts) and try them out in AI Studio,\n",
    "* Check out the Gemini API cookbook for [inspirational examples](https://github.com/google-gemini/cookbook/blob/main/examples/) and [educational quickstarts](https://github.com/google-gemini/cookbook/blob/main/quickstarts/).\n",
    "\n",
    "And please share anything exciting you have tried in the Discord!"
   ]
  }
 ],
 "metadata": {
  "colab": {
   "name": "day-1-prompting.ipynb",
   "toc_visible": true
  },
  "kaggle": {
   "accelerator": "none",
   "dataSources": [],
   "dockerImageVersionId": 30786,
   "isGpuEnabled": false,
   "isInternetEnabled": true,
   "language": "python",
   "sourceType": "notebook"
  },
  "kernelspec": {
   "display_name": "Python 3",
   "language": "python",
   "name": "python3"
  },
  "language_info": {
   "codemirror_mode": {
    "name": "ipython",
    "version": 3
   },
   "file_extension": ".py",
   "mimetype": "text/x-python",
   "name": "python",
   "nbconvert_exporter": "python",
   "pygments_lexer": "ipython3",
   "version": "3.10.14"
  },
  "papermill": {
   "default_parameters": {},
   "duration": 125.886622,
   "end_time": "2024-12-28T23:21:28.225207",
   "environment_variables": {},
   "exception": null,
   "input_path": "__notebook__.ipynb",
   "output_path": "__notebook__.ipynb",
   "parameters": {},
   "start_time": "2024-12-28T23:19:22.338585",
   "version": "2.6.0"
  }
 },
 "nbformat": 4,
 "nbformat_minor": 5
}
